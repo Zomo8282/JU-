{
 "cells": [
  {
   "cell_type": "code",
   "execution_count": 68,
   "metadata": {},
   "outputs": [],
   "source": [
    "import numpy as np"
   ]
  },
  {
   "cell_type": "code",
   "execution_count": 96,
   "metadata": {},
   "outputs": [
    {
     "name": "stdout",
     "output_type": "stream",
     "text": [
      "  (5, 0)\t100\n",
      "  (2, 0)\t200\n",
      "  (3, 0)\t300\n",
      "  (4, 0)\t600\n"
     ]
    }
   ],
   "source": [
    "from scipy import sparse\n",
    "x=np.array([5,2,3,4])\n",
    "c=np.array([0,0,0,0])\n",
    "f=np.array([100,200,300,600])\n",
    "a=sparse.coo_matrix((f,(x,c)),shape=(100,1))\n",
    "print(a)\n"
   ]
  },
  {
   "cell_type": "code",
   "execution_count": 99,
   "metadata": {},
   "outputs": [
    {
     "data": {
      "text/plain": [
       "(3.718281828459045, 3.718281828459045)"
      ]
     },
     "execution_count": 99,
     "metadata": {},
     "output_type": "execute_result"
    }
   ],
   "source": [
    "f=lambda x:x[0]+np.exp(x[1]-x[0])\n",
    "grade=lambda z: np.array([1-np.exp(z[1]-z[0]),np.exp(z[1]-z[0])])\n",
    "z=np.array([1,2])\n",
    "fh=lambda x: f(z)+grade(z)@(x-z)\n",
    "f([1,2]),fh([1,2])"
   ]
  },
  {
   "cell_type": "code",
   "execution_count": null,
   "metadata": {},
   "outputs": [],
   "source": []
  }
 ],
 "metadata": {
  "kernelspec": {
   "display_name": "Python 3",
   "language": "python",
   "name": "python3"
  },
  "language_info": {
   "codemirror_mode": {
    "name": "ipython",
    "version": 3
   },
   "file_extension": ".py",
   "mimetype": "text/x-python",
   "name": "python",
   "nbconvert_exporter": "python",
   "pygments_lexer": "ipython3",
   "version": "3.8.5"
  }
 },
 "nbformat": 4,
 "nbformat_minor": 4
}

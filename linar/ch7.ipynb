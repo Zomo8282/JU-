{
 "cells": [
  {
   "cell_type": "code",
   "execution_count": 8,
   "metadata": {},
   "outputs": [
    {
     "name": "stdout",
     "output_type": "stream",
     "text": [
      "[[6.123233995736766e-17, -1.0], [1.0, 6.123233995736766e-17]]\n",
      "****************\n",
      "[[-1.5   0.25]]\n"
     ]
    }
   ],
   "source": [
    "#retation******************\n",
    "import numpy as np\n",
    "Rot = lambda theta: [[np.cos(theta), -np.sin(theta)],\n",
    "[np.sin(theta), np.cos(theta)]]\n",
    "R = Rot(np.pi/2)# here the angle **************************\n",
    "R\n",
    "\n",
    "#create a list of 2-D points\n",
    "points =np.array([[0.25,1.5]])#here******************\n",
    "#Now rotate them\n",
    "rpoints = np.array([R @ p for p in points])\n",
    "#Show the two sets of points\n",
    "print(R)\n",
    "print(\"****************\")\n",
    "print(rpoints)"
   ]
  },
  {
   "cell_type": "code",
   "execution_count": 4,
   "metadata": {},
   "outputs": [
    {
     "name": "stdout",
     "output_type": "stream",
     "text": [
      "[[6.123233995736766e-17, 1.0], [1.0, -6.123233995736766e-17]]\n",
      "****************\n",
      "[[1.5  0.25]]\n"
     ]
    }
   ],
   "source": [
    "#refluction*************\n",
    "import numpy as np\n",
    "Rot = lambda theta: [[np.cos(2*theta), np.sin(2*theta)],\n",
    "[np.sin(2*theta), -np.cos(2*theta)]]\n",
    "R = Rot(np.pi/4)# here the angle **************************\n",
    "R\n",
    "#create a list of 2-D points\n",
    "points =np.array([[0.25,1.5]])#here******************\n",
    "#Now rotate them\n",
    "rpoints = np.array([R @ p for p in points])\n",
    "#Show the two sets of points\n",
    "print(R)\n",
    "print(\"****************\")\n",
    "print(rpoints)"
   ]
  },
  {
   "cell_type": "code",
   "execution_count": null,
   "metadata": {},
   "outputs": [],
   "source": [
    "#projection\n",
    "import numpy as np\n",
    "Rot = lambda theta: [[(1/2)*(1+np.cos(2*theta)), (1/2)*np.sin(2*theta)],\n",
    "[(1/2)*np.sin(2*theta), (1/2)*(1-np.cos(theta))]]\n",
    "R = Rot(np.pi/3)# here the angle **************************\n",
    "R\n",
    "\n",
    "#create a list of 2-D points\n",
    "points =np.array([[1,0],[ 1.5,0],[2,0],[1,0.25],[1.5,0.25],[1,0.5]])#here******************\n",
    "#Now rotate them\n",
    "rpoints = np.array([R @ p for p in points])\n",
    "#Show the two sets of points\n",
    "print(R)\n",
    "print(\"****************\")\n",
    "print(rpoints)"
   ]
  },
  {
   "cell_type": "code",
   "execution_count": 5,
   "metadata": {},
   "outputs": [
    {
     "data": {
      "text/plain": [
       "array([0.0625, 4.5   ])"
      ]
     },
     "execution_count": 5,
     "metadata": {},
     "output_type": "execute_result"
    }
   ],
   "source": [
    "#dilation***********\n",
    "import numpy as np\n",
    "dilt = lambda x,y: np.array([[x, 0],[0, y]])\n",
    "\n",
    "D= dilt(0.25, 1.5) # put here the dilation matrix\n",
    "x=np.array([0.25, 3]) # write the vector required\n",
    "D@x\n"
   ]
  },
  {
   "cell_type": "code",
   "execution_count": 24,
   "metadata": {},
   "outputs": [
    {
     "data": {
      "text/plain": [
       "array([3., 2., 1.])"
      ]
     },
     "execution_count": 24,
     "metadata": {},
     "output_type": "execute_result"
    }
   ],
   "source": [
    "#reverse\n",
    "reverser = lambda n: np.flip(np.eye(n),axis=0)\n",
    "A = reverser(3)# but here the size of the vector u have \n",
    "x=np.array([1,2,3])#size of this\n",
    "A@ x"
   ]
  },
  {
   "cell_type": "code",
   "execution_count": 21,
   "metadata": {},
   "outputs": [
    {
     "data": {
      "text/plain": [
       "array([ 2.4,  0.2, -1.7])"
      ]
     },
     "execution_count": 21,
     "metadata": {},
     "output_type": "execute_result"
    }
   ],
   "source": [
    "A = np.array([[0,0,1], [1,0,0], [0,1,0]])#**************\n",
    "x = np.array([0.2, -1.7, 2.4])#*****************\n",
    "A @ x # Permutes entries of x to [x[2], x[0], x[1]]"
   ]
  },
  {
   "cell_type": "code",
   "execution_count": 30,
   "metadata": {},
   "outputs": [
    {
     "name": "stdout",
     "output_type": "stream",
     "text": [
      "[0 0 0 0]\n",
      "***********\n",
      "[1.11022302e-16 0.00000000e+00 0.00000000e+00 0.00000000e+00]\n"
     ]
    }
   ],
   "source": [
    "#networling \n",
    "\n",
    "#circulation\n",
    "A = np.array([[-1,-1,0,1,0], [1,0,-1,0,0], [0,0,1,-1,-1], [0,1,0,0,1]])# here*****************\n",
    "xcirc = np.array([1,-1,1,0,1]) #A circulation given as x\n",
    "A @ xcirc\n",
    "#******************\n",
    "#for sorce points\n",
    "s = np.array([1,0,-1,0,]) # A source vector \n",
    "x = np.array([0.6,0.3,0.6,-0.1,-0.3]) #A flow vector\n",
    "A @ x + s #Total incoming flow at each node\n",
    "print(A @ xcirc)\n",
    "print(\"***********\")\n",
    "print(A @ x + s)"
   ]
  },
  {
   "cell_type": "code",
   "execution_count": 11,
   "metadata": {},
   "outputs": [
    {
     "data": {
      "text/plain": [
       "7.000000000000001"
      ]
     },
     "execution_count": 11,
     "metadata": {},
     "output_type": "execute_result"
    }
   ],
   "source": [
    "#for smoth ******************\n",
    "A = np.array([[-1,-1,0,1,0], [1,0,-1,0,0], [0,0,1,-1,-1], [0,1,0,0,1]])\n",
    "vsmooth = np.array([1,2,0,1])\n",
    "np.linalg.norm(A.T @ vsmooth)**2"
   ]
  },
  {
   "cell_type": "code",
   "execution_count": 9,
   "metadata": {},
   "outputs": [
    {
     "name": "stdout",
     "output_type": "stream",
     "text": [
      "[-25  -5  26   2  -1   3]\n"
     ]
    }
   ],
   "source": [
    "#conloution***************\n",
    "b = np.array([-5,2,3])\n",
    "a = np.array([5,3,-1,1])\n",
    "print(np.convolve(a,b))\n"
   ]
  },
  {
   "cell_type": "code",
   "execution_count": 10,
   "metadata": {},
   "outputs": [
    {
     "data": {
      "text/plain": [
       "array([[0.03, 0.33, 0.78],\n",
       "       [0.66, 0.66, 0.03],\n",
       "       [0.03, 0.65, 0.93]])"
      ]
     },
     "execution_count": 10,
     "metadata": {},
     "output_type": "execute_result"
    }
   ],
   "source": [
    "#Permutation matrix*****************\n",
    "import numpy as np\n",
    "\n",
    "A = np.array([[0,0,1], [1,0,0], [0,1,0]])# Permutation matrix\n",
    "x = np.array([[0.66,0.66,0.03],[0.03,0.65,0.93],[0.03,0.33,0.78]])# the maxrix of vector required\n",
    "\n",
    "A @ x # Permutes entries of x to [x[2], x[0], x[1]]"
   ]
  },
  {
   "cell_type": "code",
   "execution_count": null,
   "metadata": {},
   "outputs": [],
   "source": []
  }
 ],
 "metadata": {
  "kernelspec": {
   "display_name": "Python 3",
   "language": "python",
   "name": "python3"
  },
  "language_info": {
   "codemirror_mode": {
    "name": "ipython",
    "version": 3
   },
   "file_extension": ".py",
   "mimetype": "text/x-python",
   "name": "python",
   "nbconvert_exporter": "python",
   "pygments_lexer": "ipython3",
   "version": "3.8.5"
  }
 },
 "nbformat": 4,
 "nbformat_minor": 4
}

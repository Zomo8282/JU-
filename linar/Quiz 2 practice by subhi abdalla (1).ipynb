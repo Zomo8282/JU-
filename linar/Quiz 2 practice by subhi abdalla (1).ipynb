{
 "cells": [
  {
   "cell_type": "markdown",
   "metadata": {},
   "source": [
    "# Second Quiz python practice"
   ]
  },
  {
   "cell_type": "markdown",
   "metadata": {},
   "source": [
    "### First Question:\n",
    "\n",
    "Given a 10- feature vector (s) for main symptoms of corona virus, such as: \n",
    "    \n",
    "    s1 = fever;\n",
    "    s2 = dry cough.\n",
    "    s3 = tiredness; \n",
    "    s4 = sore throat;\n",
    "    s5 = aches and pain. \n",
    "    s6 = diarrhoea;\n",
    "    s7 = chest pain;\n",
    "    s8 = loss of taste or smell.\n",
    "    s9 = skin rash;\n",
    "    s10 = breathing difficulty. \n",
    "The nonzero elements nnz(s1-3) are considered common symptoms and have a weight of 15%. \n",
    "\n",
    "the nnz(s4-6, s8-9) are considered less common symptoms “   with a weight of 5%.\n",
    "\n",
    "symptoms s7 and s10 are serious symptoms with a weight of 80%.\n",
    "\n",
    "If a person admitted to a hospital with symptoms \n",
    "p = [1, 0, 1, 1, 0, 0, 0, 1, 0, 1], given that hospital assesses all symptoms, the patients score will be:\n"
   ]
  },
  {
   "cell_type": "code",
   "execution_count": 3,
   "metadata": {},
   "outputs": [
    {
     "data": {
      "text/plain": [
       "1.2000000000000002"
      ]
     },
     "execution_count": 3,
     "metadata": {},
     "output_type": "execute_result"
    }
   ],
   "source": [
    "import numpy as np\n",
    "\n",
    "#the weight vector will be \n",
    "                     #   s1    s2    s3    s4    s5    s6    s7   s8    s9   s10\n",
    "weight_vector=np.array([0.15, 0.15, 0.15, 0.05, 0.05, 0.05, 0.8, 0.05, 0.05, 0.8])\n",
    "symptoms_vector=np.array([1,0,1,1,0,0,0,1,0,1]) #Given\n",
    "\n",
    "patient_score=weight_vector@symptoms_vector #to find the score \n",
    "patient_score"
   ]
  },
  {
   "cell_type": "markdown",
   "metadata": {},
   "source": [
    "### Second Question:\n",
    "\n",
    "        Which one of the following vectors (a)\n",
    "        when applied to vector s = [0, 0, 0, 0, 1, 0, 1, 1, 0, 1]\n",
    "        gives the output of 4?\n",
    "        \n",
    "        \n",
    "        a) v=[0, 0, 0, 0, 1, 0, 1, 1, 0, 1]\n",
    "        b) v=[1, 1, 1, 1, 0, 1, 0, 0, 1, 0]\n",
    "        c) v=[0, 0, 0, 0, 4, 0, 4, 4, 0, 4]\n",
    "        "
   ]
  },
  {
   "cell_type": "code",
   "execution_count": 4,
   "metadata": {},
   "outputs": [
    {
     "data": {
      "text/plain": [
       "4"
      ]
     },
     "execution_count": 4,
     "metadata": {},
     "output_type": "execute_result"
    }
   ],
   "source": [
    "#Becouse we have four ones we will choose the same vector \n",
    "#to get four as a result\n",
    "# or you can try the choices\n",
    "\n",
    "s=np.array([0,0,0,0,1,0,1,1,0,1])\n",
    "v=np.array([0,0,0,0,1,0,1,1,0,1])\n",
    "\n",
    "s@v"
   ]
  },
  {
   "cell_type": "markdown",
   "metadata": {},
   "source": [
    "### Third Qeustion:\n",
    "\n",
    "    The root mean square of the vector x = [1,-2, 3, 2] is"
   ]
  },
  {
   "cell_type": "code",
   "execution_count": 14,
   "metadata": {},
   "outputs": [
    {
     "name": "stdout",
     "output_type": "stream",
     "text": [
      "2.1213203435596424\n"
     ]
    }
   ],
   "source": [
    "import numpy as np\n",
    "\n",
    "#Get the code form pyton book page 25\n",
    "\n",
    "rms = lambda x: (sum(x**2)**0.5)/(len(x)**0.5) #Root Mean Suqure function\n",
    "\n",
    "x = np.array([1,-2,3,2]) #change vector here\n",
    "\n",
    "print(rms(x))"
   ]
  },
  {
   "cell_type": "markdown",
   "metadata": {},
   "source": [
    "### Fourth Question: \n",
    "\n",
    "      Given the histogram (hi) of 2 sentences, where  \n",
    "          h1 = [2.2, 4.8, 1.1, 2.1, 4.1] \n",
    "      and\n",
    "          h2 = [4.8, 0.7, 0.1, 1.1, 0.6]\n",
    "      find the similarity of them"
   ]
  },
  {
   "cell_type": "code",
   "execution_count": 13,
   "metadata": {},
   "outputs": [
    {
     "name": "stdout",
     "output_type": "stream",
     "text": [
      "6.149796744608719\n"
     ]
    }
   ],
   "source": [
    "import numpy as np\n",
    "\n",
    "#distance between vectors to find the similarity \n",
    "\n",
    "h1 = np.array([2.2, 4.8, 1.1, 2.1, 4.1])#change the vector\n",
    "h2 = np.array([4.8, 0.7, 0.1, 1.1, 0.6])#change the vector\n",
    "\n",
    "print(np.linalg.norm(h1-h2)) #Distance function page 27"
   ]
  },
  {
   "cell_type": "markdown",
   "metadata": {},
   "source": [
    "### Fifth Question:\n",
    "\n",
    "    Compute the correlation coefficient between the vectors \n",
    "    u = [1.8, 2.0,  -3.7, 4.7]  \n",
    "    and \n",
    "    v = [0.6, 2.1, 1.9, -1.4]"
   ]
  },
  {
   "cell_type": "code",
   "execution_count": 9,
   "metadata": {},
   "outputs": [
    {
     "data": {
      "text/plain": [
       "-0.7147914589161423"
      ]
     },
     "execution_count": 9,
     "metadata": {},
     "output_type": "execute_result"
    }
   ],
   "source": [
    "import numpy as np\n",
    "\n",
    "#correlation coefficient functin page 30\n",
    "\n",
    "def corr_coef(a,b):\n",
    "    a_tilde = a - sum(a)/len(a)\n",
    "    b_tilde = b - sum(b)/len(b)\n",
    "    denom = (np.linalg.norm(a_tilde) * np.linalg.norm(b_tilde))\n",
    "    return (a_tilde @ b_tilde) /denom  \n",
    "\n",
    "a = np.array([1.8, 2.0,  -3.7, 4.7])#change the vector\n",
    "b = np.array([0.6, 2.1, 1.9, -1.4]) #change the vector\n",
    "\n",
    "corr_coef(a,b)"
   ]
  },
  {
   "cell_type": "markdown",
   "metadata": {},
   "source": [
    "### Sixth Question:\n",
    "\n",
    "    What is the angle (in degrees) between the vectors\n",
    "    u = [1, 4, 6] and v = [1, 2, 3]?"
   ]
  },
  {
   "cell_type": "code",
   "execution_count": 11,
   "metadata": {},
   "outputs": [
    {
     "data": {
      "text/plain": [
       "7.606217461891173"
      ]
     },
     "execution_count": 11,
     "metadata": {},
     "output_type": "execute_result"
    }
   ],
   "source": [
    "import numpy as np\n",
    "\n",
    "#Angle function page 29\n",
    "\n",
    "ang = lambda x,y : np.arccos(x @ y / (np.linalg.norm(x)*np.linalg.norm(y)))#Angle Function\n",
    "\n",
    "a = np.array([1, 4, 6])#change the vector \n",
    "b = np.array([1, 2, 3])#change the vector\n",
    "\n",
    "#Get angle in degrees\n",
    "ang(a,b) # the answer here is in radian \n",
    "ang(a,b) * (360/(2*np.pi)) # so we change it to degree "
   ]
  },
  {
   "cell_type": "markdown",
   "metadata": {},
   "source": [
    "### Seventh Question:\n",
    "        \n",
    "        Find the Taylor approximation (f_hat) for the affine function \n",
    "        f(x) = x1^2 + exp (x2 - x1) \n",
    "        near the point z(0.85, 2.05).\n",
    "        "
   ]
  },
  {
   "cell_type": "code",
   "execution_count": 23,
   "metadata": {},
   "outputs": [
    {
     "name": "stdout",
     "output_type": "stream",
     "text": [
      "4.061938194150853\n"
     ]
    }
   ],
   "source": [
    "import numpy as np\n",
    "\n",
    "#The given values of the question is wrong here is the correct ones:\n",
    "\n",
    "x=np.array([0.85,2.05])\n",
    "z=np.array([1,2])\n",
    "\n",
    "#The Main Function\n",
    "f_x=x[0]**2 + np.exp(x[1] - x[0])\n",
    "\n",
    "#First step:\n",
    "f_z=z[0]**2 + np.exp(z[1] - z[0])#subsitute the main function with vector (z)\n",
    "\n",
    "#Second Step:\n",
    "                       #first derivative       #second derivative\n",
    "f_zPartial=np.array([2*z[0]-np.exp(z[1]-z[0]),2+np.exp(z[1]-z[0])]) # find the derivatives of the function\n",
    "\n",
    "#Third step:\n",
    "x_z=(x-z) #Subtract the z form the vector x\n",
    "\n",
    "\n",
    "f_hat=f_z+f_zPartial@x_z #Taylor Aproxmation function \n",
    "\n",
    "print(f_hat)"
   ]
  },
  {
   "cell_type": "markdown",
   "metadata": {},
   "source": [
    "### Done by: Subhi Abdalla"
   ]
  }
 ],
 "metadata": {
  "kernelspec": {
   "display_name": "Python 3",
   "language": "python",
   "name": "python3"
  },
  "language_info": {
   "codemirror_mode": {
    "name": "ipython",
    "version": 3
   },
   "file_extension": ".py",
   "mimetype": "text/x-python",
   "name": "python",
   "nbconvert_exporter": "python",
   "pygments_lexer": "ipython3",
   "version": "3.8.5"
  }
 },
 "nbformat": 4,
 "nbformat_minor": 4
}

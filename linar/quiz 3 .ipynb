{
 "cells": [
  {
   "cell_type": "markdown",
   "metadata": {},
   "source": [
    "# CH 4 Clustering"
   ]
  },
  {
   "cell_type": "code",
   "execution_count": 9,
   "metadata": {},
   "outputs": [],
   "source": [
    "def group_assignment(data,centroids):\n",
    "    grouping_vec_c = np.zeros(len(data))\n",
    "    for i in range(len(data)):\n",
    "        dist = np.zeros(len(centroids))\n",
    "        for j in range(len(centroids)):\n",
    "            dist[j] = np.linalg.norm(data[i] - centroids[j])\n",
    "        min_dist = min(dist)\n",
    "        for j in range(len(centroids)):\n",
    "            if min_dist == dist[j]:\n",
    "                grouping_vec_c[i] = j+1\n",
    "    return grouping_vec_c\n",
    "\n",
    "def update_centroid(data, grouping, centroids):\n",
    "    new_centroids = [];\n",
    "    for i in range(len(centroids)):\n",
    "        cent = np.zeros(len(data[0]))\n",
    "        count = 0\n",
    "        for j in range(len(data)):\n",
    "            if grouping[j] == (i+1):\n",
    "                cent = cent+data[j]\n",
    "                count += 1\n",
    "        group_average = cent/count\n",
    "        new_centroids.append(group_average)\n",
    "    return new_centroids\n",
    "\n",
    "def clustering_objective(data, grouping, centroids):\n",
    "    J_obj = 0\n",
    "    for i in range(len(data)):\n",
    "        for j in range(len(centroids)):\n",
    "            if grouping[i] == (j+1):\n",
    "                J_obj += np.linalg.norm(data[i] - centroids[j])**2\n",
    "    J_obj = J_obj/len(data)\n",
    "    return J_obj\n",
    "\n",
    "\n",
    "def Kmeans_alg(data, centroids):\n",
    "    iteration = 0\n",
    "    J_obj_vector = []\n",
    "    Stop = False\n",
    "    while Stop == False:\n",
    "        grouping = group_assignment(data, centroids)\n",
    "        new_centroids = update_centroid(data, grouping, centroids)\n",
    "        J_obj = clustering_objective(data, grouping, new_centroids)\n",
    "        J_obj_vector.append(J_obj)\n",
    "        iteration += 1\n",
    "        if np.linalg.norm(np.array(new_centroids) - np.array(centroids)) < 1e-6:\n",
    "            Stop = True\n",
    "        else:\n",
    "            centroids = new_centroids\n",
    "    return new_centroids, grouping, J_obj_vector, iteration"
   ]
  },
  {
   "cell_type": "markdown",
   "metadata": {},
   "source": [
    "## Examples Of The Algorithm (K Means)"
   ]
  },
  {
   "cell_type": "code",
   "execution_count": 10,
   "metadata": {},
   "outputs": [
    {
     "data": {
      "text/plain": [
       "([array([4. , 2.5, 2.5, 1.5]),\n",
       "  array([2., 4., 2., 4.]),\n",
       "  array([1., 5., 5., 1.])],\n",
       " array([1., 2., 3., 1.]),\n",
       " [0.8750000000000001, 0.8750000000000001],\n",
       " 2)"
      ]
     },
     "execution_count": 10,
     "metadata": {},
     "output_type": "execute_result"
    }
   ],
   "source": [
    "v = np.array([[5,3,2,1],[2,4,2,4],[1,5,5,1],[3,2,3,2]])\n",
    "c = np.array([[5,3,2,1],[2,4,2,4],[1,5,5,1]])\n",
    "Kmeans_alg(v,c)"
   ]
  },
  {
   "cell_type": "code",
   "execution_count": 6,
   "metadata": {},
   "outputs": [],
   "source": [
    "from sklearn.cluster import KMeans\n",
    "import numpy as np\n",
    "kmeans = KMeans(n_clusters=4, random_state=0).fit(X)\n",
    "labels = kmeans.labels_\n",
    "group_representative = kmeans.cluster_centers_\n",
    "J_clust = kmeans.inertia_"
   ]
  },
  {
   "cell_type": "code",
   "execution_count": 5,
   "metadata": {},
   "outputs": [],
   "source": [
    "X = np.concatenate([[0.3*np.random.randn(2) for i in range(100)],\n",
    "[[1,1] + 0.3*np.random.randn(2) for i in range(100)], [[1,-1]\n",
    "+ 0.3* np.random.randn(2) for i in range(100)]])"
   ]
  },
  {
   "cell_type": "code",
   "execution_count": 7,
   "metadata": {},
   "outputs": [
    {
     "name": "stdout",
     "output_type": "stream",
     "text": [
      "KMeans(n_clusters=4, random_state=0)\n"
     ]
    }
   ],
   "source": [
    "print(kmeans)"
   ]
  },
  {
   "cell_type": "code",
   "execution_count": 9,
   "metadata": {},
   "outputs": [
    {
     "data": {
      "text/plain": [
       "array([[ 1.03091461,  1.0811424 ],\n",
       "       [ 0.70626261, -0.67824375],\n",
       "       [-0.01607847,  0.01072911],\n",
       "       [ 1.15041416, -1.03575898]])"
      ]
     },
     "execution_count": 9,
     "metadata": {},
     "output_type": "execute_result"
    }
   ],
   "source": [
    "group_representative"
   ]
  },
  {
   "cell_type": "code",
   "execution_count": 10,
   "metadata": {},
   "outputs": [
    {
     "data": {
      "text/plain": [
       "45.22914480150691"
      ]
     },
     "execution_count": 10,
     "metadata": {},
     "output_type": "execute_result"
    }
   ],
   "source": [
    "J_clust"
   ]
  },
  {
   "cell_type": "markdown",
   "metadata": {},
   "source": [
    "# CH 5 Linear Independence"
   ]
  },
  {
   "cell_type": "code",
   "execution_count": 3,
   "metadata": {},
   "outputs": [],
   "source": [
    "import numpy as np\n",
    "def gram_schmidt(a):\n",
    "    q = []\n",
    "    for i in range(len(a)):\n",
    "        #orthogonalization\n",
    "        q_tilde = a[i]\n",
    "        for j in range(len(q)):\n",
    "            q_tilde = q_tilde - (q[j] @ a[i])*q[j]\n",
    "        #Test for dependennce\n",
    "        if np.sqrt(sum(q_tilde**2)) <= 1e-10:\n",
    "            print('Vectors are linearly dependent.')\n",
    "            print('GS algorithm terminates at iteration ', i+1)\n",
    "            return q\n",
    "        #Normalization\n",
    "        else:\n",
    "            q_tilde = q_tilde / np.sqrt(sum(q_tilde**2))\n",
    "            q.append(q_tilde)\n",
    "    print('Vectors are linearly independent.')\n",
    "    return q"
   ]
  },
  {
   "cell_type": "markdown",
   "metadata": {},
   "source": [
    "## Example Of The Algorithm (Gram Schmidt)"
   ]
  },
  {
   "cell_type": "code",
   "execution_count": 4,
   "metadata": {},
   "outputs": [
    {
     "name": "stdout",
     "output_type": "stream",
     "text": [
      "Vectors are linearly independent.\n",
      "[array([ 0.37796447, -0.75592895,  0.37796447, -0.37796447]), array([ 0.17457431,  0.56736651,  0.7855844 , -0.17457431]), array([-0.57154761, -0.32659863,  0.48989795,  0.57154761])] \n",
      "\n",
      "Norm of q[0] : 2.6457513110645907 \n",
      "\n",
      "Inner product of q[0] and q[1] : 3 \n",
      "\n",
      "Inner product of q[0] and q[2] : -19 \n",
      "\n",
      "Norm of q[1] : 3.4641016151377544 \n",
      "\n",
      "Inner product of q[1] and q[2] : 4 \n",
      "\n",
      "Norm of q[2] : 8.246211251235321 \n",
      "\n"
     ]
    }
   ],
   "source": [
    "q = np.array([[1,-2,1,-1],[1,1,3,-1],[-3,7,1,3]])\n",
    "print(gram_schmidt(q), \"\\n\")\n",
    "\n",
    "#Test orthonormality\n",
    "print('Norm of q[0] :', (sum(q[0]**2))**0.5, \"\\n\")\n",
    "print('Inner product of q[0] and q[1] :', q[0] @ q[1], \"\\n\")\n",
    "print('Inner product of q[0] and q[2] :', q[0] @ q[2], \"\\n\")\n",
    "print('Norm of q[1] :', (sum(q[1]**2))**0.5, \"\\n\")\n",
    "print('Inner product of q[1] and q[2] :', q[1] @ q[2], \"\\n\")\n",
    "print('Norm of q[2] :', (sum(q[2]**2))**0.5, \"\\n\")"
   ]
  },
  {
   "cell_type": "code",
   "execution_count": 5,
   "metadata": {},
   "outputs": [
    {
     "name": "stdout",
     "output_type": "stream",
     "text": [
      "Vectors are linearly dependent.\n",
      "GS algorithm terminates at iteration  3\n",
      "[array([ 0.5, -0.5,  0.5, -0.5]), array([0.        , 0.70710678, 0.70710678, 0.        ])]\n"
     ]
    }
   ],
   "source": [
    "q = np.array([[1,-1,1,-1],[1,1,3,-1],[-3,7,1,3]])\n",
    "print(gram_schmidt(q))"
   ]
  },
  {
   "cell_type": "code",
   "execution_count": null,
   "metadata": {},
   "outputs": [],
   "source": []
  }
 ],
 "metadata": {
  "kernelspec": {
   "display_name": "Python 3",
   "language": "python",
   "name": "python3"
  },
  "language_info": {
   "codemirror_mode": {
    "name": "ipython",
    "version": 3
   },
   "file_extension": ".py",
   "mimetype": "text/x-python",
   "name": "python",
   "nbconvert_exporter": "python",
   "pygments_lexer": "ipython3",
   "version": "3.8.5"
  }
 },
 "nbformat": 4,
 "nbformat_minor": 5
}

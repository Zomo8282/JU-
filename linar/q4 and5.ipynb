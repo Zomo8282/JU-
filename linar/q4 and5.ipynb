{
 "cells": [
  {
   "cell_type": "code",
   "execution_count": null,
   "metadata": {},
   "outputs": [],
   "source": [
    "#reflcetion\n",
    "import numpy as np\n",
    "Rot = lambda theta: [[np.cos(2*theta), np.sin(2*theta)],[np.sin(2*theta), -np.cos(2*theta)]]\n",
    "\n",
    "R = Rot(np.pi/4) # put the angle in radian here (45)-->(45*(pi/180))=(pi/4)\n",
    "x=np.array([0.25, 1.5]) # write the vector recuired      \n",
    "R@x"
   ]
  },
  {
   "cell_type": "code",
   "execution_count": null,
   "metadata": {},
   "outputs": [],
   "source": [
    "#dilation\n",
    "import numpy as np\n",
    "dilt = lambda x,y: np.array([[x, 0],[0, y]])\n",
    "\n",
    "D= dilt(0.25, 1.5) # put here the dilation matrix\n",
    "x=np.array([0.25, 3]) # write the vector required\n",
    "D@x\n"
   ]
  },
  {
   "cell_type": "code",
   "execution_count": null,
   "metadata": {},
   "outputs": [],
   "source": [
    "#rotation\n",
    "import numpy as np\n",
    "Rot = lambda theta: [[np.cos(theta), -np.sin(theta)],[np.sin(theta), np.cos(theta)]]\n",
    "\n",
    "R = Rot(np.pi/2)# put the angle in radian here (90)-->(90*(pi/180))=(pi/2)\n",
    "x=np.array([0.25,1.5])  # write the vector required       \n",
    "R@x"
   ]
  },
  {
   "cell_type": "code",
   "execution_count": null,
   "metadata": {},
   "outputs": [],
   "source": [
    "#Convolution\n",
    "a = np.array([-5, 2, 3]) #write the first vector\n",
    "b = np.array([5, 3, -1, 1]) #write the second vector\n",
    "\n",
    "def toeplitz(a,n):\n",
    "    m = len(a)\n",
    "    T = np.zeros((n+m-1,n))\n",
    "    for j in range(n):\n",
    "        T[j:j+m,j] = a\n",
    "    return T\n",
    "\n",
    "Tb = toeplitz(a,len(b))\n",
    "print((Tb)\n",
    "print(Tb @ b)"
   ]
  },
  {
   "cell_type": "code",
   "execution_count": null,
   "metadata": {},
   "outputs": [],
   "source": [
    "# smoothness Dirichlet energy.\n",
    "import numpy as np\n",
    "\n",
    "A = np.array([[-1,-1,0,1,0], [1,0,-1,0,0], [0,0,1,-1,-1], [0,1,0,0,1]]) #incidence matrix\n",
    "vsmooth = np.array([1,2,0,1])#potential vector\n",
    "\n",
    "np.linalg.norm(A.T @ vsmooth)**2 #Dirichlet energy of vsmooth\n"
   ]
  },
  {
   "cell_type": "code",
   "execution_count": null,
   "metadata": {},
   "outputs": [],
   "source": [
    "#Permutation matrix\n",
    "import numpy as np\n",
    "\n",
    "A = np.array([[0,0,1], [1,0,0], [0,1,0]])# Permutation matrix\n",
    "x = np.array([[0.66,0.66,0.03],[0.03,0.65,0.93],[0.03,0.33,0.78]])# the maxrix of vector required\n",
    "\n",
    "A @ x # Permutes entries of x to [x[2], x[0], x[1]]"
   ]
  },
  {
   "cell_type": "code",
   "execution_count": null,
   "metadata": {},
   "outputs": [],
   "source": [
    "#inverse matrix\n",
    "import numpy as np\n",
    "A = np.array([[-2, 7] ,[3, 6]])########change\n",
    "B = np.linalg.inv(A)\n",
    "B"
   ]
  },
  {
   "cell_type": "code",
   "execution_count": null,
   "metadata": {},
   "outputs": [],
   "source": [
    "#Solving system of linear equations\n",
    "A = np.array([[1,-3, 7], [-1,4,-6], [1,4,6],[1,-3,0]])######change\n",
    "b=[3,0,3,1]######change\n",
    "\n",
    "import numpy as np\n",
    "def gram_schmidt(a):\n",
    "    q = []\n",
    "    for i in range(len(a)):\n",
    "        #orthogonalization\n",
    "        q_tilde = a[i]\n",
    "        for j in range(len(q)):\n",
    "            q_tilde = q_tilde - (q[j] @ a[i])*q[j]\n",
    "        #Test for dependennce\n",
    "        if np.sqrt(sum(q_tilde**2)) <= 1e-10:\n",
    "            print('Vectors are linearly dependent.')\n",
    "            print('GS algorithm terminates at iteration ', i+1)\n",
    "            return q\n",
    "        #Normalization\n",
    "        else:\n",
    "            q_tilde = q_tilde / np.sqrt(sum(q_tilde**2))\n",
    "            q.append(q_tilde)\n",
    "    print('Vectors are linearly independent.')\n",
    "    return q\n",
    "\n",
    "Q = gram_schmidt(A)\n",
    "\n",
    "def QR_factorization(A):\n",
    "    Q_transpose = np.array(gram_schmidt(A.T))\n",
    "    R = Q_transpose @ A\n",
    "    Q = Q_transpose.T\n",
    "    return Q, R\n",
    "Q, R = QR_factorization(A)\n",
    "\n",
    "\n",
    "\n",
    "def solve_via_backsub(A,b):\n",
    "    Q,R = QR_factorization(A)\n",
    "    b_tilde = Q.T @ b\n",
    "    x = back_subst(R,b_tilde)\n",
    "    return x\n",
    "print(\"A=\\n\",A)\n",
    "print(\"Q=\\n\",Q)\n",
    "print(\"R=\\n\",R)\n",
    "print(\"x=\\n\",np.linalg.inv(R)@(Q.T)@b,\" <- you need this \")\n",
    "print(\"R inv=\\n\",np.linalg.inv(R))\n",
    "print(\"QT=\\n\",Q.T)"
   ]
  },
  {
   "cell_type": "code",
   "execution_count": null,
   "metadata": {},
   "outputs": [],
   "source": [
    "#FIND left inv\n",
    "import numpy as np\n",
    "A = np.array([[-3,-4], [4,6], [1,1]])#########change\n",
    "#left inverse\n",
    "left= np.linalg.solve(A.T.dot(A), A.T)\n",
    "print(left,\"\\n\")\n",
    "print(left@A)"
   ]
  },
  {
   "cell_type": "code",
   "execution_count": null,
   "metadata": {},
   "outputs": [],
   "source": [
    "#right inverse\n",
    "import numpy as np\n",
    "A = np.array([[1,1,1,1], [0,1,1,0],[0,0,1,1]])#########change\n",
    "right= (A.T)@np.linalg.inv(A@A.T)\n",
    "print(right,\"\\n\")\n",
    "print(A@right)"
   ]
  },
  {
   "cell_type": "code",
   "execution_count": null,
   "metadata": {},
   "outputs": [],
   "source": [
    "#upper triangular part of a matrix\n",
    "import numpy as np\n",
    "A = np.array([ [1,-1,4], [1,4,-2], [1,4,2],[1,-1,0] ])#########change\n",
    "np.triu(A)"
   ]
  },
  {
   "cell_type": "code",
   "execution_count": null,
   "metadata": {},
   "outputs": [],
   "source": [
    "#power matrix\n",
    "import numpy as np\n",
    "A = np.array([[0,1,0,0,1], [1,0,1,0,0], [0,0,1,1,1], [1,0,0,0,0], [0,0,0,1,0]])#########change\n",
    "np.linalg.matrix_power(A,2)"
   ]
  },
  {
   "cell_type": "code",
   "execution_count": null,
   "metadata": {},
   "outputs": [],
   "source": [
    "#Second difference matrix.\n",
    "D = lambda n: np.c_[-np.identity(n-1), np.zeros(n-1)] + np.c_[np.zeros(n-1), np.identity(n-1)]\n",
    "D(4)\n",
    "D(5)\n",
    "Delta = D(4) @ D(5) #Second difference matrix\n",
    "print(Delta)\n",
    "\n",
    "A=np.array([-2, -2,3,-1,-3])#############change\n",
    "print('\\n the answer',Delta@A)"
   ]
  },
  {
   "cell_type": "code",
   "execution_count": null,
   "metadata": {},
   "outputs": [],
   "source": []
  }
 ],
 "metadata": {
  "kernelspec": {
   "display_name": "Python 3",
   "language": "python",
   "name": "python3"
  },
  "language_info": {
   "codemirror_mode": {
    "name": "ipython",
    "version": 3
   },
   "file_extension": ".py",
   "mimetype": "text/x-python",
   "name": "python",
   "nbconvert_exporter": "python",
   "pygments_lexer": "ipython3",
   "version": "3.8.5"
  }
 },
 "nbformat": 4,
 "nbformat_minor": 4
}

{
 "cells": [
  {
   "cell_type": "code",
   "execution_count": 23,
   "metadata": {},
   "outputs": [
    {
     "name": "stdout",
     "output_type": "stream",
     "text": [
      "Vectors are linearly independent.\n",
      "[array([ 0.37796447, -0.75592895,  0.37796447, -0.37796447]), array([ 0.17457431,  0.56736651,  0.7855844 , -0.17457431]), array([-0.57154761, -0.32659863,  0.48989795,  0.57154761])]\n",
      "Norm of q[0] : 0.9999999999999999\n",
      "Inner product of q[0] and q[1] : 1.1102230246251565e-16\n",
      "Inner product of q[0] and q[2] : -7.216449660063518e-16\n",
      "Norm of q[1] : 1.0\n",
      "Inner product of q[1] and q[2] : 4.996003610813204e-16\n",
      "Norm of q[2] : 1.0\n"
     ]
    }
   ],
   "source": [
    "import numpy as np\n",
    "def gram_schmidt(a):\n",
    "    q = []\n",
    "    for i in range(len(a)):\n",
    "        #orthogonalization\n",
    "        q_tilde = a[i]\n",
    "        for j in range(len(q)):\n",
    "            q_tilde = q_tilde - (q[j] @ a[i])*q[j]\n",
    "        #Test for dependennce\n",
    "        if np.sqrt(sum(q_tilde**2)) <= 1e-10:\n",
    "            print(\"Vectors are linearly dependent.\")\n",
    "            print(\"GS algorithm terminates at iteration \", i+1)\n",
    "            return q\n",
    "        #Normalization\n",
    "        else:\n",
    "            q_tilde = q_tilde / np.sqrt(sum(q_tilde**2))\n",
    "            q.append(q_tilde)\n",
    "    print(\"Vectors are linearly independent.\")\n",
    "    return q\n",
    "    \n",
    "a=np.array([(1,-2,1,-1),(1,1,3,-1),(-3,7,1,3)])\n",
    "q=gram_schmidt(a)\n",
    "print(q)\n",
    "#Test orthonormality\n",
    "print(\"Norm of q[0] :\", (sum(q[0]**2))**0.5)\n",
    "print('Inner product of q[0] and q[1] :', q[0] @ q[1])\n",
    "print(\"Inner product of q[0] and q[2] :\", q[0] @ q[2])\n",
    "print(\"Norm of q[1] :\", (sum(q[1]**2))**0.5)\n",
    "print(\"Inner product of q[1] and q[2] :\", q[1] @ q[2])\n",
    "print(\"Norm of q[2] :\", (sum(q[2]**2))**0.5) \n"
   ]
  },
  {
   "cell_type": "code",
   "execution_count": null,
   "metadata": {},
   "outputs": [],
   "source": []
  }
 ],
 "metadata": {
  "kernelspec": {
   "display_name": "Python 3",
   "language": "python",
   "name": "python3"
  },
  "language_info": {
   "codemirror_mode": {
    "name": "ipython",
    "version": 3
   },
   "file_extension": ".py",
   "mimetype": "text/x-python",
   "name": "python",
   "nbconvert_exporter": "python",
   "pygments_lexer": "ipython3",
   "version": "3.8.5"
  }
 },
 "nbformat": 4,
 "nbformat_minor": 4
}

{
 "cells": [
  {
   "cell_type": "code",
   "execution_count": 16,
   "metadata": {},
   "outputs": [
    {
     "name": "stdout",
     "output_type": "stream",
     "text": [
      "9.055385138137417 4.451123453691214 6.604922406811453\n",
      "8.0 3.0516389039334255 5.25594901040716\n",
      "7.0710678118654755 1.6770509831248424 3.952847075210474\n",
      "6.324555320336759 0.5590169943749475 2.7613402542968153\n",
      "5.830951894845301 1.346291201783626 1.9039432764659772\n",
      "5.656854249492381 2.704163456597992 1.9039432764659772\n",
      "5.830951894845301 4.100304866714182 2.7613402542968153\n",
      "6.324555320336759 5.50567888638631 3.952847075210474\n"
     ]
    }
   ],
   "source": [
    "import numpy as np\n",
    "p1=np.array([2,10])\n",
    "p2=np.array([2,5])\n",
    "p3=np.array([8,4])\n",
    "p4=np.array([5,8])\n",
    "p5=np.array([7,5])\n",
    "p6=np.array([6,4])\n",
    "p7=np.array([1,2])\n",
    "p8=np.array([4,9])\n",
    "z1=np.array([2,10])\n",
    "z2=np.array([4.5,3.75])\n",
    "z3=np.array([4.25,6.75])\n",
    "for n in range (1,9):\n",
    "    print(np.linalg.norm(n-z1),np.linalg.norm(n-z2),np.linalg.norm(n-z3))\n"
   ]
  },
  {
   "cell_type": "code",
   "execution_count": null,
   "metadata": {},
   "outputs": [],
   "source": []
  }
 ],
 "metadata": {
  "kernelspec": {
   "display_name": "Python 3",
   "language": "python",
   "name": "python3"
  },
  "language_info": {
   "codemirror_mode": {
    "name": "ipython",
    "version": 3
   },
   "file_extension": ".py",
   "mimetype": "text/x-python",
   "name": "python",
   "nbconvert_exporter": "python",
   "pygments_lexer": "ipython3",
   "version": "3.8.5"
  }
 },
 "nbformat": 4,
 "nbformat_minor": 4
}

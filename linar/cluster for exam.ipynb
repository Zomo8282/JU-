{
 "cells": [
  {
   "cell_type": "code",
   "execution_count": 28,
   "metadata": {},
   "outputs": [
    {
     "name": "stdout",
     "output_type": "stream",
     "text": [
      "[0.0, 1.0, 3.605551275463989, 5.0]\n",
      "[1.0, 0.0, 2.8284271247461903, 4.242640687119285]\n"
     ]
    }
   ],
   "source": [
    "import numpy as np\n",
    "x1=np.array([(1,1),(2,1),(4,3),(5,4)])\n",
    "center=np.array([(1,1),(2,1),])\n",
    "lis=[]\n",
    "for i in range (len(center)):\n",
    "    lis.append([])\n",
    "    for x in  range(len(x1)):\n",
    "        lis[i].append(np.linalg.norm(center[i]-x1[x]))\n",
    "    print(lis[i])\n",
    "        \n"
   ]
  },
  {
   "cell_type": "code",
   "execution_count": 27,
   "metadata": {},
   "outputs": [
    {
     "name": "stdout",
     "output_type": "stream",
     "text": [
      "0.0\n"
     ]
    }
   ],
   "source": [
    "\n",
    "    "
   ]
  },
  {
   "cell_type": "code",
   "execution_count": null,
   "metadata": {},
   "outputs": [],
   "source": []
  },
  {
   "cell_type": "code",
   "execution_count": null,
   "metadata": {},
   "outputs": [],
   "source": []
  }
 ],
 "metadata": {
  "kernelspec": {
   "display_name": "Python 3",
   "language": "python",
   "name": "python3"
  },
  "language_info": {
   "codemirror_mode": {
    "name": "ipython",
    "version": 3
   },
   "file_extension": ".py",
   "mimetype": "text/x-python",
   "name": "python",
   "nbconvert_exporter": "python",
   "pygments_lexer": "ipython3",
   "version": "3.8.5"
  }
 },
 "nbformat": 4,
 "nbformat_minor": 4
}

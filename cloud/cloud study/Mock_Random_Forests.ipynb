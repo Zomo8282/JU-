{
 "cells": [
  {
   "cell_type": "code",
   "execution_count": 39,
   "metadata": {
    "id": "YoP3R9quw9OC"
   },
   "outputs": [],
   "source": [
    "%matplotlib inline\n",
    "import numpy as np\n",
    "import matplotlib.pyplot as plt\n"
   ]
  },
  {
   "cell_type": "code",
   "execution_count": 44,
   "metadata": {
    "id": "f1bP2-F5w9OV"
   },
   "outputs": [],
   "source": [
    "# from the sklearn toy datasets, load the digits dataset\n",
    "from sklearn import datasets \n",
    "x=datasets.load_digits()\n",
    "df = pd.DataFrame(x[\"data\"], columns=x[\"feature_names\"])\n",
    "target = x[\"target\"]\n"
   ]
  },
  {
   "cell_type": "code",
   "execution_count": 41,
   "metadata": {
    "id": "xJlIGPOHw9OW"
   },
   "outputs": [],
   "source": [
    "from sklearn.model_selection import train_test_split\n",
    "from sklearn.ensemble import RandomForestClassifier\n",
    "df\n",
    "# call the train_test_split function with suitable paramters, to split the data properly into training and testing subsets, let test_size be 30%\n",
    "\n",
    "X_train, X_test, y_train, y_test =train_test_split(df, target, test_size=0.2, random_state=0)\n",
    "# create model using the RandomForestClassifier, let the number of trees in the forest be 500\n",
    "classifier = ensemble.RandomForestClassifier(500)\n",
    "# fit your model using proper results from the previous call to the train_test_split function\n",
    "model=classifier.fit(X_train, y_train)\n",
    "\n",
    "# produce predicted labels properly using model\n",
    "\n",
    "L_P = model.score(X_test, y_test)"
   ]
  },
  {
   "cell_type": "code",
   "execution_count": 42,
   "metadata": {
    "id": "rshDPIOtw9OX"
   },
   "outputs": [
    {
     "data": {
      "text/plain": [
       "0.9805555555555555"
      ]
     },
     "execution_count": 42,
     "metadata": {},
     "output_type": "execute_result"
    }
   ],
   "source": [
    "from sklearn import metrics\n",
    "# print a classification_report properly using both your test and predicted labels from the cells above\n",
    "model.score(X_test, y_test)"
   ]
  },
  {
   "cell_type": "markdown",
   "metadata": {
    "id": "X6s1za9M8zkr"
   },
   "source": [
    "# complete the only row in the table below\n",
    "n_estimators       | weighted avg f1-score  | execution time of 3rd cell (s) | overall memory (GB) | overall Disk (GB) |\n",
    "-------------------|----------------|--------------------|--------------------|--------------------\n",
    "500        | ?????   | ??????  | ??????  | ??????  | ??????\n",
    "\n"
   ]
  },
  {
   "cell_type": "code",
   "execution_count": null,
   "metadata": {},
   "outputs": [],
   "source": []
  }
 ],
 "metadata": {
  "anaconda-cloud": {},
  "colab": {
   "name": "Mock-Random-Forests.ipynb",
   "provenance": []
  },
  "kernelspec": {
   "display_name": "Python 3",
   "language": "python",
   "name": "python3"
  },
  "language_info": {
   "codemirror_mode": {
    "name": "ipython",
    "version": 3
   },
   "file_extension": ".py",
   "mimetype": "text/x-python",
   "name": "python",
   "nbconvert_exporter": "python",
   "pygments_lexer": "ipython3",
   "version": "3.8.5"
  }
 },
 "nbformat": 4,
 "nbformat_minor": 1
}

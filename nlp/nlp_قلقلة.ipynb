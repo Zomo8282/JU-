{
  "nbformat": 4,
  "nbformat_minor": 0,
  "metadata": {
    "colab": {
      "provenance": []
    },
    "kernelspec": {
      "name": "python3",
      "display_name": "Python 3"
    },
    "language_info": {
      "name": "python"
    }
  },
  "cells": [
    {
      "cell_type": "code",
      "execution_count": 17,
      "metadata": {
        "id": "2jn3DFebYten"
      },
      "outputs": [],
      "source": [
        "with open('quran-simple.txt', 'r', encoding='utf-8') as file:\n",
        "    data = file.read()"
      ]
    },
    {
      "cell_type": "code",
      "source": [
        "import nltk\n",
        "nltk.download('punkt')\n"
      ],
      "metadata": {
        "colab": {
          "base_uri": "https://localhost:8080/"
        },
        "id": "MVcsAyv_ZRb2",
        "outputId": "63c830b5-1b09-4720-bb1d-37848c101cc6"
      },
      "execution_count": 18,
      "outputs": [
        {
          "output_type": "stream",
          "name": "stderr",
          "text": [
            "[nltk_data] Downloading package punkt to /root/nltk_data...\n",
            "[nltk_data]   Package punkt is already up-to-date!\n"
          ]
        },
        {
          "output_type": "execute_result",
          "data": {
            "text/plain": [
              "True"
            ]
          },
          "metadata": {},
          "execution_count": 18
        }
      ]
    },
    {
      "cell_type": "code",
      "source": [
        "tokens = nltk.word_tokenize(data)\n",
        "print(len(tokens))\n"
      ],
      "metadata": {
        "colab": {
          "base_uri": "https://localhost:8080/"
        },
        "id": "lmEeLJ9YZt7U",
        "outputId": "148f02c4-3a1c-4149-83a3-d791b362d669"
      },
      "execution_count": 19,
      "outputs": [
        {
          "output_type": "stream",
          "name": "stdout",
          "text": [
            "78245\n"
          ]
        }
      ]
    },
    {
      "cell_type": "code",
      "source": [
        "import re\n"
      ],
      "metadata": {
        "id": "UZs--5D-Z1gV"
      },
      "execution_count": 20,
      "outputs": []
    },
    {
      "cell_type": "code",
      "source": [
        "qalqalah_pattern = r'[بجدطق]ُ?[ًٌٍ]?[قطدجب]ْ?[ًٌٍ]?[ةه]?\\b'\n"
      ],
      "metadata": {
        "id": "zoaML1XraNFU"
      },
      "execution_count": 36,
      "outputs": []
    },
    {
      "cell_type": "code",
      "source": [
        "qalqalah_matches = re.findall(qalqalah_pattern, data)\n",
        "print(len(qalqalah_matches))\n",
        "\n"
      ],
      "metadata": {
        "colab": {
          "base_uri": "https://localhost:8080/"
        },
        "id": "JZ8tusEZaP6K",
        "outputId": "fa70f93f-d3f7-491d-9e2a-fd2ad8dfa9fa"
      },
      "execution_count": 37,
      "outputs": [
        {
          "output_type": "stream",
          "name": "stdout",
          "text": [
            "207\n"
          ]
        }
      ]
    },
    {
      "cell_type": "code",
      "source": [
        "first_50_words = qalqalah_matches[:50]\n",
        "first_50_words\n"
      ],
      "metadata": {
        "colab": {
          "base_uri": "https://localhost:8080/"
        },
        "id": "ONxo-kAzaR9l",
        "outputId": "0a278687-6826-46dd-e6e1-723ff4467a38"
      },
      "execution_count": 38,
      "outputs": [
        {
          "output_type": "execute_result",
          "data": {
            "text/plain": [
              "['بُد',\n",
              " 'بُد',\n",
              " 'جُد',\n",
              " 'بُد',\n",
              " 'قُد',\n",
              " 'بُد',\n",
              " 'بُد',\n",
              " 'بُد',\n",
              " 'بُط',\n",
              " 'قُد',\n",
              " 'جُد',\n",
              " 'بُد',\n",
              " 'بُد',\n",
              " 'جُد',\n",
              " 'دُق',\n",
              " 'بُط',\n",
              " 'بُد',\n",
              " 'قُب',\n",
              " 'قُب',\n",
              " 'بُد',\n",
              " 'بُد',\n",
              " 'قُد',\n",
              " 'بُد',\n",
              " 'قُط',\n",
              " 'بُد',\n",
              " 'قُط',\n",
              " 'بُد',\n",
              " 'قُب',\n",
              " 'بُط',\n",
              " 'جُد',\n",
              " 'جُد',\n",
              " 'بُد',\n",
              " 'بُد',\n",
              " 'بُد',\n",
              " 'بُد',\n",
              " 'بُد',\n",
              " 'بُد',\n",
              " 'جُد',\n",
              " 'دُب',\n",
              " 'قُب',\n",
              " 'قُب',\n",
              " 'بُد',\n",
              " 'طُب',\n",
              " 'بُد',\n",
              " 'بُد',\n",
              " 'بُد',\n",
              " 'دُد',\n",
              " 'بُد',\n",
              " 'بُد',\n",
              " 'بُد']"
            ]
          },
          "metadata": {},
          "execution_count": 38
        }
      ]
    },
    {
      "cell_type": "code",
      "source": [],
      "metadata": {
        "id": "mudqHtI8cTAD"
      },
      "execution_count": null,
      "outputs": []
    },
    {
      "cell_type": "code",
      "source": [
        "unique_qalqalah_words = set(qalqalah_matches)\n",
        "print(unique_qalqalah_words)"
      ],
      "metadata": {
        "colab": {
          "base_uri": "https://localhost:8080/"
        },
        "id": "6zQ1-axdat7p",
        "outputId": "bff8da93-9015-490e-9058-f1e04f55ca2c"
      },
      "execution_count": 39,
      "outputs": [
        {
          "output_type": "stream",
          "name": "stdout",
          "text": [
            "{'قُد', 'جُد', 'بُد', 'دُج', 'بُط', 'طُب', 'قُب', 'بُدْه', 'جُب', 'بُدْ', 'بُقْ', 'دُق', 'قُط', 'دُد', 'قُبً', 'دُب'}\n"
          ]
        }
      ]
    },
    {
      "cell_type": "code",
      "source": [],
      "metadata": {
        "id": "twV_lFgKbrjX"
      },
      "execution_count": null,
      "outputs": []
    }
  ]
}
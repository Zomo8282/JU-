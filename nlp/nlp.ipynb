{
  "nbformat": 4,
  "nbformat_minor": 0,
  "metadata": {
    "colab": {
      "provenance": []
    },
    "kernelspec": {
      "name": "python3",
      "display_name": "Python 3"
    },
    "language_info": {
      "name": "python"
    }
  },
  "cells": [
    {
      "cell_type": "code",
      "execution_count": 75,
      "metadata": {
        "id": "5VPVIkT642Pe"
      },
      "outputs": [],
      "source": [
        "import nltk \n",
        "def remove_vowels(word):\n",
        "    vowels = set(['َ', 'ً', 'ُ', 'ٌ', 'ِ', 'ٍ', 'ْ'])\n",
        "    result = \"\"\n",
        "    for char in word:\n",
        "        if char not in vowels:\n",
        "            result += char\n",
        "    return result"
      ]
    },
    {
      "cell_type": "code",
      "source": [
        "AR=open(\"quran-simple.txt\").read()\n",
        "EN=open(\"en.txt\").read()\n",
        "nonvowelized_AR = remove_vowels(AR)"
      ],
      "metadata": {
        "id": "oVC_tfy46Kf8"
      },
      "execution_count": 76,
      "outputs": []
    },
    {
      "cell_type": "code",
      "source": [
        "def counter(text):\n",
        "  lines = 0\n",
        "  words = 0\n",
        "  char = 0\n",
        "  for line in text:\n",
        "      lines += 1\n",
        "      words += len(line.split())\n",
        "      char += len(line.strip('\\n'))\n",
        "  print(\"lines:\",lines)\n",
        "  print(\"words:\",words)\n",
        "  print(\"char:\",char)\n",
        "print(\"AR\")\n",
        "counter(AR)\n",
        "print(\"*************\")\n",
        "print(\"EN\")\n",
        "counter(EN)\n",
        "print(\"**************\")\n",
        "print(\"nonvowelized_AR\")\n",
        "counter(nonvowelized_AR)\n"
      ],
      "metadata": {
        "colab": {
          "base_uri": "https://localhost:8080/"
        },
        "id": "0UW7j8T97Msh",
        "outputId": "3f7dc451-c54c-4ac1-9d1a-87532c67aacf"
      },
      "execution_count": 77,
      "outputs": [
        {
          "output_type": "stream",
          "name": "stdout",
          "text": [
            "AR\n",
            "lines: 689411\n",
            "words: 611167\n",
            "char: 683176\n",
            "*************\n",
            "EN\n",
            "lines: 828777\n",
            "words: 673480\n",
            "char: 822528\n",
            "**************\n",
            "nonvowelized_AR\n",
            "lines: 430329\n",
            "words: 352085\n",
            "char: 424094\n"
          ]
        }
      ]
    },
    {
      "cell_type": "code",
      "source": [
        "from nltk.tokenize import word_tokenize"
      ],
      "metadata": {
        "id": "dUw6zMRG7X1G"
      },
      "execution_count": 78,
      "outputs": []
    },
    {
      "cell_type": "markdown",
      "source": [],
      "metadata": {
        "id": "WSJMlrEHgnVW"
      }
    },
    {
      "cell_type": "code",
      "source": [
        "l=word_tokenize(AR) \n",
        "x=word_tokenize(EN) \n",
        "f=word_tokenize(nonvowelized_AR) \n",
        "\n",
        "print(\"ARlen:\",len(l))\n",
        "print(\"ENlen:\",len(x))\n",
        "print(\"nonvowelized_AR:\",len(f))\n"
      ],
      "metadata": {
        "colab": {
          "base_uri": "https://localhost:8080/"
        },
        "id": "oTl2CGJC8z3C",
        "outputId": "2b5cede4-7345-4c9d-e6a5-9a41ebfa1377"
      },
      "execution_count": 79,
      "outputs": [
        {
          "output_type": "stream",
          "name": "stdout",
          "text": [
            "ARlen: 78245\n",
            "ENlen: 183576\n",
            "nonvowelized_AR: 78245\n"
          ]
        }
      ]
    },
    {
      "cell_type": "code",
      "source": [
        "unique_wordsAR =set(l)\n",
        "unique_wordsEN =set(x)\n",
        "unique_wordsnon =set(f)\n",
        "\n",
        "print(\"unique_wordsAR:\",len(unique_wordsAR ))\n",
        "print(\"unique_wordsEN:\",len(unique_wordsEN ))\n",
        "print(\"unique_wordsnon:\",len(unique_wordsnon ))"
      ],
      "metadata": {
        "colab": {
          "base_uri": "https://localhost:8080/"
        },
        "id": "N7uNdptS9DvO",
        "outputId": "3d05d659-d80c-4f3e-d474-a1f52d8f05ea"
      },
      "execution_count": 85,
      "outputs": [
        {
          "output_type": "stream",
          "name": "stdout",
          "text": [
            "unique_wordsAR: 17574\n",
            "unique_wordsEN: 6867\n",
            "unique_wordsnon: 15035\n"
          ]
        }
      ]
    },
    {
      "cell_type": "code",
      "source": [
        "def lexical_diversity(text):\n",
        "    # Tokenize the text and count the number of tokens\n",
        "    tokens = nltk.word_tokenize(text)\n",
        "    num_tokens = len(tokens)\n",
        "    # Compute the number of unique words in the text\n",
        "    unique_words = set(tokens)\n",
        "    num_unique_words = len(unique_words)\n",
        "    # Compute the lexical diversity as the ratio of unique words to total words\n",
        "    lexical_diversity = num_unique_words / num_tokens\n",
        "    return lexical_diversity\n",
        "quran_lexical_diversityAR= lexical_diversity(AR)  \n",
        "quran_lexical_diversityEN= lexical_diversity(EN)  \n",
        "quran_lexical_diversitynon= lexical_diversity(nonvowelized_AR)  \n",
        "\n",
        "\n",
        "print(\"Lexical diversity of the Qur'an's vocabularyAR: \", quran_lexical_diversityAR)\n",
        "print(\"Lexical diversity of the Qur'an's vocabularyAR: \", quran_lexical_diversityEN)\n",
        "print(\"Lexical diversity of the Qur'an's vocabularynon: \", quran_lexical_diversitynon)\n"
      ],
      "metadata": {
        "id": "BlDjId45-5L4",
        "colab": {
          "base_uri": "https://localhost:8080/"
        },
        "outputId": "86717435-251b-47e9-a28b-e7402836e805"
      },
      "execution_count": 87,
      "outputs": [
        {
          "output_type": "stream",
          "name": "stdout",
          "text": [
            "Lexical diversity of the Qur'an's vocabularyAR:  0.22460221100389802\n",
            "Lexical diversity of the Qur'an's vocabularyAR:  0.03740685056870179\n",
            "Lexical diversity of the Qur'an's vocabularynon:  0.19215285321745798\n"
          ]
        }
      ]
    },
    {
      "cell_type": "code",
      "source": [
        "import string\n",
        "from collections import Counter"
      ],
      "metadata": {
        "id": "U3m2cAl0WqWo"
      },
      "execution_count": 88,
      "outputs": []
    },
    {
      "cell_type": "code",
      "source": [
        "text=EN.lower()\n",
        "words = text.translate(str.maketrans('', '', string.punctuation)).split()\n",
        "word_freq = Counter(words)\n",
        "\n",
        "for word,freq in word_freq.most_common(10):\n",
        " print(f\"{word}: {freq}\\n\")\n"
      ],
      "metadata": {
        "colab": {
          "base_uri": "https://localhost:8080/"
        },
        "id": "oC3qsFPJbl8n",
        "outputId": "6b2a59c2-01fc-4b05-bbab-5a69ce3ee411"
      },
      "execution_count": 38,
      "outputs": [
        {
          "output_type": "stream",
          "name": "stdout",
          "text": [
            "and: 7871\n",
            "\n",
            "the: 7638\n",
            "\n",
            "of: 4857\n",
            "\n",
            "is: 3185\n",
            "\n",
            "they: 2882\n",
            "\n",
            "allah: 2739\n",
            "\n",
            "that: 2552\n",
            "\n",
            "them: 2322\n",
            "\n",
            "a: 2280\n",
            "\n",
            "he: 2259\n",
            "\n"
          ]
        }
      ]
    },
    {
      "cell_type": "code",
      "source": [
        "text=AR.lower()\n",
        "words = text.translate(str.maketrans('', '', string.punctuation)).split()\n",
        "word_freq = Counter(words)\n",
        "\n",
        "for word,freq in word_freq.most_common(10):\n",
        " print(f\"{word}: {freq}\\n\")\n"
      ],
      "metadata": {
        "colab": {
          "base_uri": "https://localhost:8080/"
        },
        "id": "YKWAds7tcgAB",
        "outputId": "f28f882c-0a1a-4481-fa4c-8352e5f4264c"
      },
      "execution_count": 39,
      "outputs": [
        {
          "output_type": "stream",
          "name": "stdout",
          "text": [
            "مِنْ: 1673\n",
            "\n",
            "فِي: 1185\n",
            "\n",
            "مَا: 1010\n",
            "\n",
            "اللَّهِ: 940\n",
            "\n",
            "لَا: 812\n",
            "\n",
            "الَّذِينَ: 810\n",
            "\n",
            "اللَّهُ: 733\n",
            "\n",
            "مِنَ: 693\n",
            "\n",
            "عَلَى: 670\n",
            "\n",
            "إِلَّا: 662\n",
            "\n"
          ]
        }
      ]
    },
    {
      "cell_type": "code",
      "source": [
        "text=nonvowelized_AR.lower()\n",
        "words = text.translate(str.maketrans('', '', string.punctuation)).split()\n",
        "word_freq = Counter(words)\n",
        "\n",
        "for word,freq in word_freq.most_common(10):\n",
        " print(f\"{word}: {freq}\\n\")\n"
      ],
      "metadata": {
        "colab": {
          "base_uri": "https://localhost:8080/"
        },
        "id": "CRVCVKBTb4NK",
        "outputId": "002ed94e-b94c-414a-c32c-72bf927d67c2"
      },
      "execution_count": 89,
      "outputs": [
        {
          "output_type": "stream",
          "name": "stdout",
          "text": [
            "من: 2759\n",
            "\n",
            "اللّه: 2265\n",
            "\n",
            "في: 1185\n",
            "\n",
            "ما: 1010\n",
            "\n",
            "لا: 812\n",
            "\n",
            "الّذين: 810\n",
            "\n",
            "على: 670\n",
            "\n",
            "إلّا: 664\n",
            "\n",
            "ولا: 658\n",
            "\n",
            "وما: 646\n",
            "\n"
          ]
        }
      ]
    },
    {
      "cell_type": "code",
      "source": [],
      "metadata": {
        "id": "zUE69qJ3dPPX"
      },
      "execution_count": null,
      "outputs": []
    }
  ]
}
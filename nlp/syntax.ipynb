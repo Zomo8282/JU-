{
  "nbformat": 4,
  "nbformat_minor": 0,
  "metadata": {
    "colab": {
      "provenance": []
    },
    "kernelspec": {
      "name": "python3",
      "display_name": "Python 3"
    },
    "language_info": {
      "name": "python"
    }
  },
  "cells": [
    {
      "cell_type": "code",
      "execution_count": 57,
      "metadata": {
        "id": "Q5L6dBevHXzi"
      },
      "outputs": [],
      "source": [
        "import nltk \n",
        "from nltk import ChartParser\n"
      ]
    },
    {
      "cell_type": "markdown",
      "source": [
        "Ubiquitous Ambiguity\n"
      ],
      "metadata": {
        "id": "p8msRw3kw2DU"
      }
    },
    {
      "cell_type": "code",
      "source": [
        "s=\"I shot an elephant in my pajamas\".split()\n",
        "s"
      ],
      "metadata": {
        "colab": {
          "base_uri": "https://localhost:8080/"
        },
        "id": "_6YaOyvzHgIe",
        "outputId": "7f11769d-1501-42ec-e00b-4b8370f15cb6"
      },
      "execution_count": 58,
      "outputs": [
        {
          "output_type": "execute_result",
          "data": {
            "text/plain": [
              "['I', 'shot', 'an', 'elephant', 'in', 'my', 'pajamas']"
            ]
          },
          "metadata": {},
          "execution_count": 58
        }
      ]
    },
    {
      "cell_type": "code",
      "source": [
        "groucho_grammar = nltk.CFG.fromstring(\"\"\"\n",
        "... S -> NP VP\n",
        "... PP -> P NP\n",
        "... NP -> Det N | Det N PP | 'I'\n",
        "... VP -> V NP | VP PP\n",
        "... Det -> 'an' | 'my'\n",
        "... N -> 'elephant' | 'pajamas'\n",
        "... V -> 'shot'\n",
        "... P -> 'in'\n",
        "... \"\"\")"
      ],
      "metadata": {
        "id": "7dZKgSwFJR3g"
      },
      "execution_count": 59,
      "outputs": []
    },
    {
      "cell_type": "code",
      "source": [
        "p=nltk.ChartParser(groucho_grammar)"
      ],
      "metadata": {
        "id": "xIyzVtP8JgLe"
      },
      "execution_count": 60,
      "outputs": []
    },
    {
      "cell_type": "code",
      "source": [
        "for tree in p.parse(s):\n",
        "     print(tree)"
      ],
      "metadata": {
        "colab": {
          "base_uri": "https://localhost:8080/"
        },
        "id": "yrV3YgMIKptO",
        "outputId": "70e543b1-88d5-4853-8a8e-da7e95298a56"
      },
      "execution_count": 61,
      "outputs": [
        {
          "output_type": "stream",
          "name": "stdout",
          "text": [
            "(S\n",
            "  (NP I)\n",
            "  (VP\n",
            "    (VP (V shot) (NP (Det an) (N elephant)))\n",
            "    (PP (P in) (NP (Det my) (N pajamas)))))\n",
            "(S\n",
            "  (NP I)\n",
            "  (VP\n",
            "    (V shot)\n",
            "    (NP (Det an) (N elephant) (PP (P in) (NP (Det my) (N pajamas))))))\n"
          ]
        }
      ]
    },
    {
      "cell_type": "code",
      "source": [
        "for tree in p.parse(s):\n",
        "  tree.pretty_print()"
      ],
      "metadata": {
        "colab": {
          "base_uri": "https://localhost:8080/"
        },
        "id": "Nh4kTcaoyBm-",
        "outputId": "22062c0c-3920-4f04-f162-315914ac3d6e"
      },
      "execution_count": 62,
      "outputs": [
        {
          "output_type": "stream",
          "name": "stdout",
          "text": [
            "     S                                       \n",
            "  ___|______________                          \n",
            " |                  VP                       \n",
            " |         _________|__________               \n",
            " |        VP                   PP            \n",
            " |    ____|___              ___|___           \n",
            " |   |        NP           |       NP        \n",
            " |   |     ___|_____       |    ___|_____     \n",
            " NP  V   Det        N      P  Det        N   \n",
            " |   |    |         |      |   |         |    \n",
            " I  shot  an     elephant  in  my     pajamas\n",
            "\n",
            "     S                                   \n",
            "  ___|__________                          \n",
            " |              VP                       \n",
            " |    __________|______                   \n",
            " |   |                 NP                \n",
            " |   |     ____________|___               \n",
            " |   |    |     |          PP            \n",
            " |   |    |     |       ___|___           \n",
            " |   |    |     |      |       NP        \n",
            " |   |    |     |      |    ___|_____     \n",
            " NP  V   Det    N      P  Det        N   \n",
            " |   |    |     |      |   |         |    \n",
            " I  shot  an elephant  in  my     pajamas\n",
            "\n"
          ]
        }
      ]
    },
    {
      "cell_type": "markdown",
      "source": [
        "Context Free Grammar\n"
      ],
      "metadata": {
        "id": "KfSah2Dww8qq"
      }
    },
    {
      "cell_type": "code",
      "source": [
        "grammar1 = nltk.CFG.fromstring(\"\"\"\n",
        "  S -> NP VP\n",
        "  VP -> V NP | V NP PP\n",
        "  PP -> P NP\n",
        "  V -> \"saw\" | \"ate\" | \"walked\"\n",
        "  NP -> \"John\" | \"Mary\" | \"Bob\" | Det N | Det N PP\n",
        "  Det -> \"a\" | \"an\" | \"the\" | \"my\"\n",
        "  N -> \"man\" | \"dog\" | \"cat\" | \"telescope\" | \"park\"\n",
        "  P -> \"in\" | \"on\" | \"by\" | \"with\"\n",
        "  \"\"\")"
      ],
      "metadata": {
        "id": "o_hw_t53K0Ue"
      },
      "execution_count": 63,
      "outputs": []
    },
    {
      "cell_type": "code",
      "source": [
        "s= \"Mary saw Bob\".split()\n",
        "rp = nltk.RecursiveDescentParser(grammar1)\n",
        "for tree in rp.parse(s):\n",
        "      print(tree)\n"
      ],
      "metadata": {
        "id": "BwQ9aG8dMKRI",
        "colab": {
          "base_uri": "https://localhost:8080/"
        },
        "outputId": "20506860-96d2-4532-8655-e128d86e8f13"
      },
      "execution_count": 64,
      "outputs": [
        {
          "output_type": "stream",
          "name": "stdout",
          "text": [
            "(S (NP Mary) (VP (V saw) (NP Bob)))\n"
          ]
        }
      ]
    },
    {
      "cell_type": "code",
      "source": [
        "for tree in rp .parse(s):\n",
        "  tree.pretty_print()"
      ],
      "metadata": {
        "colab": {
          "base_uri": "https://localhost:8080/"
        },
        "id": "jPD0wk5gxmyu",
        "outputId": "1df0188b-9d6d-4f4b-d369-bb1ea8814edb"
      },
      "execution_count": 65,
      "outputs": [
        {
          "output_type": "stream",
          "name": "stdout",
          "text": [
            "      S         \n",
            "  ____|___       \n",
            " |        VP    \n",
            " |     ___|___   \n",
            " NP   V       NP\n",
            " |    |       |  \n",
            "Mary saw     Bob\n",
            "\n"
          ]
        }
      ]
    },
    {
      "cell_type": "markdown",
      "source": [
        " Recursion in Syntactic Structure"
      ],
      "metadata": {
        "id": "pZTbCBkTwuvX"
      }
    },
    {
      "cell_type": "code",
      "source": [
        "grammar2 = nltk.CFG.fromstring(\"\"\"\n",
        "  S  -> NP VP\n",
        "  NP -> Det Nom | PropN\n",
        "  Nom -> Adj Nom | N\n",
        "  VP -> V Adj | V NP | V S | V NP PP\n",
        "  PP -> P NP\n",
        "  PropN -> 'Buster' | 'Chatterer' | 'Joe'\n",
        "  Det -> 'the' | 'a'\n",
        "  N -> 'bear' | 'squirrel' | 'tree' | 'fish' | 'log'\n",
        "  Adj  -> 'angry' | 'frightened' |  'little' | 'tall'\n",
        "  V ->  'chased'  | 'saw' | 'said' | 'thought' | 'was' | 'put'\n",
        "  P -> 'on'\n",
        "  \"\"\")"
      ],
      "metadata": {
        "id": "PYh-ZTuDwd9e"
      },
      "execution_count": 66,
      "outputs": []
    },
    {
      "cell_type": "code",
      "source": [
        "s=\"The angry bear chased \""
      ],
      "metadata": {
        "id": "uaKWFKEOwquo"
      },
      "execution_count": 67,
      "outputs": []
    },
    {
      "cell_type": "code",
      "source": [
        "sp = nltk.ShiftReduceParser(grammar1)\n",
        "s = 'Mary saw a dog'.split()\n",
        "for tree in sp.parse(s):\n",
        "    \t\tprint(tree)\n"
      ],
      "metadata": {
        "colab": {
          "base_uri": "https://localhost:8080/"
        },
        "id": "MAyoq_LkyNV1",
        "outputId": "06485d96-b8f0-4806-d08f-ff590ee365ff"
      },
      "execution_count": 68,
      "outputs": [
        {
          "output_type": "stream",
          "name": "stdout",
          "text": [
            "(S (NP Mary) (VP (V saw) (NP (Det a) (N dog))))\n"
          ]
        }
      ]
    },
    {
      "cell_type": "code",
      "source": [
        "for tree in sp.parse(s):\n",
        "    \t\ttree.pretty_print()"
      ],
      "metadata": {
        "colab": {
          "base_uri": "https://localhost:8080/"
        },
        "id": "W_86HWiZydPu",
        "outputId": "5d3213c9-a155-4d91-ea19-edd9627b5eed"
      },
      "execution_count": 69,
      "outputs": [
        {
          "output_type": "stream",
          "name": "stdout",
          "text": [
            "          S             \n",
            "  ________|___           \n",
            " |            VP        \n",
            " |     _______|___       \n",
            " |    |           NP    \n",
            " |    |        ___|___   \n",
            " NP   V      Det      N \n",
            " |    |       |       |  \n",
            "Mary saw      a      dog\n",
            "\n"
          ]
        }
      ]
    },
    {
      "cell_type": "code",
      "source": [
        "lp = nltk.LeftCornerChartParser(grammar1) \n",
        "for tree in lp.parse(s): \n",
        "  print(tree)"
      ],
      "metadata": {
        "colab": {
          "base_uri": "https://localhost:8080/"
        },
        "id": "5vXE52NFyeFb",
        "outputId": "0d4d3fed-0486-4441-f95f-d053ec6290ee"
      },
      "execution_count": 70,
      "outputs": [
        {
          "output_type": "stream",
          "name": "stdout",
          "text": [
            "(S (NP Mary) (VP (V saw) (NP (Det a) (N dog))))\n"
          ]
        }
      ]
    },
    {
      "cell_type": "code",
      "source": [
        "for tree in lp.parse(s):\n",
        "    tree.pretty_print()"
      ],
      "metadata": {
        "colab": {
          "base_uri": "https://localhost:8080/"
        },
        "id": "n_I2AL_fzi1M",
        "outputId": "b3dee87f-acc2-4ea3-c43b-edb0b342014d"
      },
      "execution_count": 72,
      "outputs": [
        {
          "output_type": "stream",
          "name": "stdout",
          "text": [
            "          S             \n",
            "  ________|___           \n",
            " |            VP        \n",
            " |     _______|___       \n",
            " |    |           NP    \n",
            " |    |        ___|___   \n",
            " NP   V      Det      N \n",
            " |    |       |       |  \n",
            "Mary saw      a      dog\n",
            "\n"
          ]
        }
      ]
    },
    {
      "cell_type": "code",
      "source": [
        "from nltk.corpus import treebank \n",
        "nltk.download('treebank')\n",
        "\n"
      ],
      "metadata": {
        "colab": {
          "base_uri": "https://localhost:8080/"
        },
        "id": "-NqTW9lszhLO",
        "outputId": "7647569c-ef24-40a7-e556-29378124b2c9"
      },
      "execution_count": 76,
      "outputs": [
        {
          "output_type": "stream",
          "name": "stderr",
          "text": [
            "[nltk_data] Downloading package treebank to /root/nltk_data...\n",
            "[nltk_data]   Unzipping corpora/treebank.zip.\n"
          ]
        },
        {
          "output_type": "execute_result",
          "data": {
            "text/plain": [
              "True"
            ]
          },
          "metadata": {},
          "execution_count": 76
        }
      ]
    },
    {
      "cell_type": "code",
      "source": [
        "t = treebank.parsed_sents('wsj_0001.mrg')[0] \n",
        "print(t)"
      ],
      "metadata": {
        "colab": {
          "base_uri": "https://localhost:8080/"
        },
        "id": "44foh-Tn0zg2",
        "outputId": "5b960c7a-b63e-4624-9558-9c1313f288cf"
      },
      "execution_count": 77,
      "outputs": [
        {
          "output_type": "stream",
          "name": "stdout",
          "text": [
            "(S\n",
            "  (NP-SBJ\n",
            "    (NP (NNP Pierre) (NNP Vinken))\n",
            "    (, ,)\n",
            "    (ADJP (NP (CD 61) (NNS years)) (JJ old))\n",
            "    (, ,))\n",
            "  (VP\n",
            "    (MD will)\n",
            "    (VP\n",
            "      (VB join)\n",
            "      (NP (DT the) (NN board))\n",
            "      (PP-CLR (IN as) (NP (DT a) (JJ nonexecutive) (NN director)))\n",
            "      (NP-TMP (NNP Nov.) (CD 29))))\n",
            "  (. .))\n"
          ]
        }
      ]
    },
    {
      "cell_type": "code",
      "source": [
        "t.pretty_print()"
      ],
      "metadata": {
        "colab": {
          "base_uri": "https://localhost:8080/"
        },
        "id": "kQ9AWYPc0nPd",
        "outputId": "685eff35-3fbc-434d-d175-67f6e7072184"
      },
      "execution_count": 78,
      "outputs": [
        {
          "output_type": "stream",
          "name": "stdout",
          "text": [
            "                                                     S                                                                         \n",
            "                         ____________________________|_______________________________________________________________________   \n",
            "                        |                                               VP                                                   | \n",
            "                        |                        _______________________|___                                                 |  \n",
            "                      NP-SBJ                    |                           VP                                               | \n",
            "         _______________|___________________    |     ______________________|______________________________________          |  \n",
            "        |          |              ADJP      |   |    |        |                PP-CLR                              |         | \n",
            "        |          |           ____|____    |   |    |        |          ________|_________                        |         |  \n",
            "        NP         |          NP        |   |   |    |        NP        |                  NP                    NP-TMP      | \n",
            "   _____|____      |     _____|____     |   |   |    |     ___|____     |    ______________|__________        _____|_____    |  \n",
            " NNP        NNP    ,    CD        NNS   JJ  ,   MD   VB   DT       NN   IN  DT             JJ         NN    NNP          CD  . \n",
            "  |          |     |    |          |    |   |   |    |    |        |    |   |              |          |      |           |   |  \n",
            "Pierre     Vinken  ,    61       years old  ,  will join the     board  as  a         nonexecutive director Nov.         29  . \n",
            "\n"
          ]
        }
      ]
    },
    {
      "cell_type": "code",
      "source": [
        "groucho_dep_grammar = nltk.DependencyGrammar.fromstring (\"\"\"\n",
        "\t'shot' -> 'I' | 'elephant' | 'in'\n",
        "\t'elephant' -> 'an' | 'in'\n",
        "\t'in' -> 'pajamas'\n",
        "\t'pajamas' -> 'my'\n",
        "    \"\"\")\n"
      ],
      "metadata": {
        "id": "UIr5gpXz1DPp"
      },
      "execution_count": 88,
      "outputs": []
    },
    {
      "cell_type": "code",
      "source": [
        "print (groucho_dep_grammar)\n"
      ],
      "metadata": {
        "colab": {
          "base_uri": "https://localhost:8080/"
        },
        "id": "uhy9oSK01dfb",
        "outputId": "92541794-d4a7-45f9-9261-484fb4a43c0f"
      },
      "execution_count": 89,
      "outputs": [
        {
          "output_type": "stream",
          "name": "stdout",
          "text": [
            "Dependency grammar with 7 productions\n",
            "  'shot' -> 'I'\n",
            "  'shot' -> 'elephant'\n",
            "  'shot' -> 'in'\n",
            "  'elephant' -> 'an'\n",
            "  'elephant' -> 'in'\n",
            "  'in' -> 'pajamas'\n",
            "  'pajamas' -> 'my'\n"
          ]
        }
      ]
    },
    {
      "cell_type": "code",
      "source": [
        "pdp = nltk.ProjectiveDependencyParser(groucho_dep_grammar)\n",
        "sent = 'I shot an elephant in my pajamas'.split()\n",
        "trees = pdp.parse(sent)\n",
        "for tree in trees:\n",
        "\t   print(tree)\n"
      ],
      "metadata": {
        "colab": {
          "base_uri": "https://localhost:8080/"
        },
        "id": "W4B0ithT1MWv",
        "outputId": "73f0e54e-1de5-48f9-99a0-f16d983b2a07"
      },
      "execution_count": 90,
      "outputs": [
        {
          "output_type": "stream",
          "name": "stdout",
          "text": [
            "(shot I (elephant an (in (pajamas my))))\n",
            "(shot I (elephant an) (in (pajamas my)))\n"
          ]
        }
      ]
    },
    {
      "cell_type": "code",
      "source": [
        "for tree in trees:\n",
        "  tree.pretty_print()\n",
        "\n"
      ],
      "metadata": {
        "id": "fAAiXbS91YeU"
      },
      "execution_count": 94,
      "outputs": []
    },
    {
      "cell_type": "code",
      "source": [],
      "metadata": {
        "id": "gL7Hb2Kl1oXv"
      },
      "execution_count": null,
      "outputs": []
    }
  ]
}
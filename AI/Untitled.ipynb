{
 "cells": [
  {
   "cell_type": "code",
   "execution_count": 147,
   "metadata": {},
   "outputs": [
    {
     "name": "stdout",
     "output_type": "stream",
     "text": [
      "please inter 10 lettars from abcdefghij:efgabcdhij\n",
      "['', '', '', '', '', 'ag', 'ij']\n",
      "['', '', '', '', '', 'ag', 'ij', 'ag', 'ij']\n",
      "['', '', '', '', '', 'ag', 'ij', 'ag', 'ij', 'ag', 'ij']\n",
      "['', '', '', '', '', 'ag', 'ij', 'ag', 'ij', 'ag', 'ij', 'ag', 'ij']\n",
      "['', '', '', '', '', 'ag', 'ij', 'ag', 'ij', 'ag', 'ij', 'ag', 'ij', 'ag', 'ij']\n",
      "['', '', '', '', '', 'ag', 'ij', 'ag', 'ij', 'ag', 'ij', 'ag', 'ij', 'ag', 'ij', 'ag', 'ij']\n",
      "['', '', '', '', '', 'ag', 'ij', 'ag', 'ij', 'ag', 'ij', 'ag', 'ij', 'ag', 'ij', 'ag', 'ij', 'ag', 'ij']\n",
      "['', '', '', '', '', 'ag', 'ij', 'ag', 'ij', 'ag', 'ij', 'ag', 'ij', 'ag', 'ij', 'ag', 'ij', 'ag', 'ij', 'ag', 'ij']\n",
      "['', '', '', '', '', 'ag', 'ij', 'ag', 'ij', 'ag', 'ij', 'ag', 'ij', 'ag', 'ij', 'ag', 'ij', 'ag', 'ij', 'ag', 'ij', 'ag', 'ij']\n",
      "['', '', '', '', '', 'ag', 'ij', 'ag', 'ij', 'ag', 'ij', 'ag', 'ij', 'ag', 'ij', 'ag', 'ij', 'ag', 'ij', 'ag', 'ij', 'ag', 'ij', 'ag', 'ij']\n"
     ]
    }
   ],
   "source": [
    "x=input((\"please inter 10 lettars from abcdefghij:\"))\n",
    "y=[x[0:2],x[2:4],x[4:6],x[6:8],x[8:10]]\n",
    "#***************rules\n",
    "new=[\"\",\"\",\"\",\"\",\"\"]\n",
    "rules=[\"ba\",\"ca\",\"da\",\"ea\",\"fa\",\"ga\",\"ha\",\"ia\",\"ja\",\"cb\",\"db\",\"eb\",\"fb\",\"gb\",\"hb\",\"ib\",\"jb\",\"dc\",\"ec\",\"fc\",\"gc\",\"hc\",\"ic\",\"jc\",\"ed\",\"fd\",\"gd\",\"hd\",\"id\",\"jd\",\"fe\",\"ge\",\"he\",\"ie\",\"je\",\"gf\",\"hf\",\"if\",\"jf\",\"hg\",\"ig\",\"jg\",\"ih\",\"jh\",\"ji\"]\n",
    "for l in range (10):\n",
    "    if new==[\"ab\",\"cd,\",\"ef\",\"gh\",\"ij\"]:\n",
    "        break\n",
    "    else:\n",
    "            for i in y:\n",
    "                if i in rules:\n",
    "                    new.append(i[::-1])\n",
    "            else:\n",
    "                new.append(i)\n",
    "    print(new)"
   ]
  },
  {
   "cell_type": "code",
   "execution_count": null,
   "metadata": {},
   "outputs": [],
   "source": []
  },
  {
   "cell_type": "code",
   "execution_count": null,
   "metadata": {},
   "outputs": [],
   "source": []
  },
  {
   "cell_type": "code",
   "execution_count": 52,
   "metadata": {},
   "outputs": [],
   "source": [
    "r1=\"ba\"\n",
    "r2=\"ca\"   efgabcdhij\n",
    "r3=\"da\"\n",
    "r4=\"ea\"\n",
    "r5=\"fa\"\n",
    "r6=\"ga\"\n",
    "r7=\"ha\"\n",
    "r8=\"ia\"\n",
    "r9=\"ja\""
   ]
  },
  {
   "cell_type": "code",
   "execution_count": null,
   "metadata": {},
   "outputs": [],
   "source": []
  },
  {
   "cell_type": "code",
   "execution_count": null,
   "metadata": {},
   "outputs": [],
   "source": []
  },
  {
   "cell_type": "code",
   "execution_count": null,
   "metadata": {},
   "outputs": [],
   "source": []
  },
  {
   "cell_type": "code",
   "execution_count": null,
   "metadata": {},
   "outputs": [],
   "source": []
  },
  {
   "cell_type": "code",
   "execution_count": null,
   "metadata": {},
   "outputs": [],
   "source": []
  },
  {
   "cell_type": "code",
   "execution_count": null,
   "metadata": {},
   "outputs": [],
   "source": []
  },
  {
   "cell_type": "code",
   "execution_count": null,
   "metadata": {},
   "outputs": [],
   "source": []
  },
  {
   "cell_type": "code",
   "execution_count": null,
   "metadata": {},
   "outputs": [],
   "source": []
  },
  {
   "cell_type": "code",
   "execution_count": null,
   "metadata": {},
   "outputs": [],
   "source": []
  }
 ],
 "metadata": {
  "kernelspec": {
   "display_name": "Python 3",
   "language": "python",
   "name": "python3"
  },
  "language_info": {
   "codemirror_mode": {
    "name": "ipython",
    "version": 3
   },
   "file_extension": ".py",
   "mimetype": "text/x-python",
   "name": "python",
   "nbconvert_exporter": "python",
   "pygments_lexer": "ipython3",
   "version": "3.8.5"
  }
 },
 "nbformat": 4,
 "nbformat_minor": 4
}

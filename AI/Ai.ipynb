{
 "cells": [
  {
   "cell_type": "code",
   "execution_count": 32,
   "metadata": {},
   "outputs": [
    {
     "name": "stdout",
     "output_type": "stream",
     "text": [
      "enter string from a-j with 5 letters without repetition:  bacdfehgij\n",
      "itera= 0\n",
      "{'ba': 1, 'ca': 0, 'da': 0, 'ea': 0, 'fa': 0, 'ga': 0, 'ha': 0, 'ja': 0, 'cb': 0, 'db': 0, 'eb': 0, 'fb': 0, 'gb': 0, 'hb': 0, 'ib': 0, 'jb': 0, 'dc': 0, 'ec': 0, 'fc': 0, 'hc': 0, 'ic': 0, 'jc': 0, 'ed': 0, 'fd': 0, 'gd': 0, 'hd': 0, 'id': 0, 'jd': 0, 'fe': 0, 'ge': 0, 'he': 0, 'ie': 0, 'je': 0, 'gf': 0, 'hf': 0, 'if': 0, 'jf': 0, 'hg': 0, 'ig': 0, 'jg': 0, 'ih': 0, 'jh': 0, 'ji': 0}\n",
      "abcdfehgij\n",
      "itera= 1\n",
      "{'ba': 1, 'ca': 0, 'da': 0, 'ea': 0, 'fa': 0, 'ga': 0, 'ha': 0, 'ja': 0, 'cb': 0, 'db': 0, 'eb': 0, 'fb': 0, 'gb': 0, 'hb': 0, 'ib': 0, 'jb': 0, 'dc': 0, 'ec': 0, 'fc': 0, 'hc': 0, 'ic': 0, 'jc': 0, 'ed': 0, 'fd': 0, 'gd': 0, 'hd': 0, 'id': 0, 'jd': 0, 'fe': 1, 'ge': 0, 'he': 0, 'ie': 0, 'je': 0, 'gf': 0, 'hf': 0, 'if': 0, 'jf': 0, 'hg': 0, 'ig': 0, 'jg': 0, 'ih': 0, 'jh': 0, 'ji': 0}\n",
      "abcdefhgij\n",
      "itera= 2\n",
      "{'ba': 1, 'ca': 0, 'da': 0, 'ea': 0, 'fa': 0, 'ga': 0, 'ha': 0, 'ja': 0, 'cb': 0, 'db': 0, 'eb': 0, 'fb': 0, 'gb': 0, 'hb': 0, 'ib': 0, 'jb': 0, 'dc': 0, 'ec': 0, 'fc': 0, 'hc': 0, 'ic': 0, 'jc': 0, 'ed': 0, 'fd': 0, 'gd': 0, 'hd': 0, 'id': 0, 'jd': 0, 'fe': 1, 'ge': 0, 'he': 0, 'ie': 0, 'je': 0, 'gf': 0, 'hf': 0, 'if': 0, 'jf': 0, 'hg': 1, 'ig': 0, 'jg': 0, 'ih': 0, 'jh': 0, 'ji': 0}\n",
      "abcdefghij\n",
      "itera= 3\n",
      "{'ba': 1, 'ca': 0, 'da': 0, 'ea': 0, 'fa': 0, 'ga': 0, 'ha': 0, 'ja': 0, 'cb': 0, 'db': 0, 'eb': 0, 'fb': 0, 'gb': 0, 'hb': 0, 'ib': 0, 'jb': 0, 'dc': 0, 'ec': 0, 'fc': 0, 'hc': 0, 'ic': 0, 'jc': 0, 'ed': 0, 'fd': 0, 'gd': 0, 'hd': 0, 'id': 0, 'jd': 0, 'fe': 1, 'ge': 0, 'he': 0, 'ie': 0, 'je': 0, 'gf': 0, 'hf': 0, 'if': 0, 'jf': 0, 'hg': 1, 'ig': 0, 'jg': 0, 'ih': 0, 'jh': 0, 'ji': 0}\n",
      "abcdefghij\n",
      "itera= 4\n",
      "{'ba': 1, 'ca': 0, 'da': 0, 'ea': 0, 'fa': 0, 'ga': 0, 'ha': 0, 'ja': 0, 'cb': 0, 'db': 0, 'eb': 0, 'fb': 0, 'gb': 0, 'hb': 0, 'ib': 0, 'jb': 0, 'dc': 0, 'ec': 0, 'fc': 0, 'hc': 0, 'ic': 0, 'jc': 0, 'ed': 0, 'fd': 0, 'gd': 0, 'hd': 0, 'id': 0, 'jd': 0, 'fe': 1, 'ge': 0, 'he': 0, 'ie': 0, 'je': 0, 'gf': 0, 'hf': 0, 'if': 0, 'jf': 0, 'hg': 1, 'ig': 0, 'jg': 0, 'ih': 0, 'jh': 0, 'ji': 0}\n",
      "abcdefghij\n",
      "itera= 5\n",
      "{'ba': 1, 'ca': 0, 'da': 0, 'ea': 0, 'fa': 0, 'ga': 0, 'ha': 0, 'ja': 0, 'cb': 0, 'db': 0, 'eb': 0, 'fb': 0, 'gb': 0, 'hb': 0, 'ib': 0, 'jb': 0, 'dc': 0, 'ec': 0, 'fc': 0, 'hc': 0, 'ic': 0, 'jc': 0, 'ed': 0, 'fd': 0, 'gd': 0, 'hd': 0, 'id': 0, 'jd': 0, 'fe': 1, 'ge': 0, 'he': 0, 'ie': 0, 'je': 0, 'gf': 0, 'hf': 0, 'if': 0, 'jf': 0, 'hg': 1, 'ig': 0, 'jg': 0, 'ih': 0, 'jh': 0, 'ji': 0}\n",
      "abcdefghij\n",
      "itera= 6\n",
      "{'ba': 1, 'ca': 0, 'da': 0, 'ea': 0, 'fa': 0, 'ga': 0, 'ha': 0, 'ja': 0, 'cb': 0, 'db': 0, 'eb': 0, 'fb': 0, 'gb': 0, 'hb': 0, 'ib': 0, 'jb': 0, 'dc': 0, 'ec': 0, 'fc': 0, 'hc': 0, 'ic': 0, 'jc': 0, 'ed': 0, 'fd': 0, 'gd': 0, 'hd': 0, 'id': 0, 'jd': 0, 'fe': 1, 'ge': 0, 'he': 0, 'ie': 0, 'je': 0, 'gf': 0, 'hf': 0, 'if': 0, 'jf': 0, 'hg': 1, 'ig': 0, 'jg': 0, 'ih': 0, 'jh': 0, 'ji': 0}\n",
      "abcdefghij\n",
      "itera= 7\n",
      "{'ba': 1, 'ca': 0, 'da': 0, 'ea': 0, 'fa': 0, 'ga': 0, 'ha': 0, 'ja': 0, 'cb': 0, 'db': 0, 'eb': 0, 'fb': 0, 'gb': 0, 'hb': 0, 'ib': 0, 'jb': 0, 'dc': 0, 'ec': 0, 'fc': 0, 'hc': 0, 'ic': 0, 'jc': 0, 'ed': 0, 'fd': 0, 'gd': 0, 'hd': 0, 'id': 0, 'jd': 0, 'fe': 1, 'ge': 0, 'he': 0, 'ie': 0, 'je': 0, 'gf': 0, 'hf': 0, 'if': 0, 'jf': 0, 'hg': 1, 'ig': 0, 'jg': 0, 'ih': 0, 'jh': 0, 'ji': 0}\n",
      "abcdefghij\n",
      "itera= 8\n",
      "{'ba': 1, 'ca': 0, 'da': 0, 'ea': 0, 'fa': 0, 'ga': 0, 'ha': 0, 'ja': 0, 'cb': 0, 'db': 0, 'eb': 0, 'fb': 0, 'gb': 0, 'hb': 0, 'ib': 0, 'jb': 0, 'dc': 0, 'ec': 0, 'fc': 0, 'hc': 0, 'ic': 0, 'jc': 0, 'ed': 0, 'fd': 0, 'gd': 0, 'hd': 0, 'id': 0, 'jd': 0, 'fe': 1, 'ge': 0, 'he': 0, 'ie': 0, 'je': 0, 'gf': 0, 'hf': 0, 'if': 0, 'jf': 0, 'hg': 1, 'ig': 0, 'jg': 0, 'ih': 0, 'jh': 0, 'ji': 0}\n",
      "abcdefghij\n",
      "itera= 9\n",
      "{'ba': 1, 'ca': 0, 'da': 0, 'ea': 0, 'fa': 0, 'ga': 0, 'ha': 0, 'ja': 0, 'cb': 0, 'db': 0, 'eb': 0, 'fb': 0, 'gb': 0, 'hb': 0, 'ib': 0, 'jb': 0, 'dc': 0, 'ec': 0, 'fc': 0, 'hc': 0, 'ic': 0, 'jc': 0, 'ed': 0, 'fd': 0, 'gd': 0, 'hd': 0, 'id': 0, 'jd': 0, 'fe': 1, 'ge': 0, 'he': 0, 'ie': 0, 'je': 0, 'gf': 0, 'hf': 0, 'if': 0, 'jf': 0, 'hg': 1, 'ig': 0, 'jg': 0, 'ih': 0, 'jh': 0, 'ji': 0}\n",
      "abcdefghij\n",
      "itera= 10\n",
      "{'ba': 1, 'ca': 0, 'da': 0, 'ea': 0, 'fa': 0, 'ga': 0, 'ha': 0, 'ja': 0, 'cb': 0, 'db': 0, 'eb': 0, 'fb': 0, 'gb': 0, 'hb': 0, 'ib': 0, 'jb': 0, 'dc': 0, 'ec': 0, 'fc': 0, 'hc': 0, 'ic': 0, 'jc': 0, 'ed': 0, 'fd': 0, 'gd': 0, 'hd': 0, 'id': 0, 'jd': 0, 'fe': 1, 'ge': 0, 'he': 0, 'ie': 0, 'je': 0, 'gf': 0, 'hf': 0, 'if': 0, 'jf': 0, 'hg': 1, 'ig': 0, 'jg': 0, 'ih': 0, 'jh': 0, 'ji': 0}\n",
      "abcdefghij\n",
      "itera= 11\n",
      "{'ba': 1, 'ca': 0, 'da': 0, 'ea': 0, 'fa': 0, 'ga': 0, 'ha': 0, 'ja': 0, 'cb': 0, 'db': 0, 'eb': 0, 'fb': 0, 'gb': 0, 'hb': 0, 'ib': 0, 'jb': 0, 'dc': 0, 'ec': 0, 'fc': 0, 'hc': 0, 'ic': 0, 'jc': 0, 'ed': 0, 'fd': 0, 'gd': 0, 'hd': 0, 'id': 0, 'jd': 0, 'fe': 1, 'ge': 0, 'he': 0, 'ie': 0, 'je': 0, 'gf': 0, 'hf': 0, 'if': 0, 'jf': 0, 'hg': 1, 'ig': 0, 'jg': 0, 'ih': 0, 'jh': 0, 'ji': 0}\n",
      "abcdefghij\n",
      "itera= 12\n",
      "{'ba': 1, 'ca': 0, 'da': 0, 'ea': 0, 'fa': 0, 'ga': 0, 'ha': 0, 'ja': 0, 'cb': 0, 'db': 0, 'eb': 0, 'fb': 0, 'gb': 0, 'hb': 0, 'ib': 0, 'jb': 0, 'dc': 0, 'ec': 0, 'fc': 0, 'hc': 0, 'ic': 0, 'jc': 0, 'ed': 0, 'fd': 0, 'gd': 0, 'hd': 0, 'id': 0, 'jd': 0, 'fe': 1, 'ge': 0, 'he': 0, 'ie': 0, 'je': 0, 'gf': 0, 'hf': 0, 'if': 0, 'jf': 0, 'hg': 1, 'ig': 0, 'jg': 0, 'ih': 0, 'jh': 0, 'ji': 0}\n",
      "abcdefghij\n",
      "itera= 13\n",
      "{'ba': 1, 'ca': 0, 'da': 0, 'ea': 0, 'fa': 0, 'ga': 0, 'ha': 0, 'ja': 0, 'cb': 0, 'db': 0, 'eb': 0, 'fb': 0, 'gb': 0, 'hb': 0, 'ib': 0, 'jb': 0, 'dc': 0, 'ec': 0, 'fc': 0, 'hc': 0, 'ic': 0, 'jc': 0, 'ed': 0, 'fd': 0, 'gd': 0, 'hd': 0, 'id': 0, 'jd': 0, 'fe': 1, 'ge': 0, 'he': 0, 'ie': 0, 'je': 0, 'gf': 0, 'hf': 0, 'if': 0, 'jf': 0, 'hg': 1, 'ig': 0, 'jg': 0, 'ih': 0, 'jh': 0, 'ji': 0}\n",
      "abcdefghij\n",
      "itera= 14\n",
      "{'ba': 1, 'ca': 0, 'da': 0, 'ea': 0, 'fa': 0, 'ga': 0, 'ha': 0, 'ja': 0, 'cb': 0, 'db': 0, 'eb': 0, 'fb': 0, 'gb': 0, 'hb': 0, 'ib': 0, 'jb': 0, 'dc': 0, 'ec': 0, 'fc': 0, 'hc': 0, 'ic': 0, 'jc': 0, 'ed': 0, 'fd': 0, 'gd': 0, 'hd': 0, 'id': 0, 'jd': 0, 'fe': 1, 'ge': 0, 'he': 0, 'ie': 0, 'je': 0, 'gf': 0, 'hf': 0, 'if': 0, 'jf': 0, 'hg': 1, 'ig': 0, 'jg': 0, 'ih': 0, 'jh': 0, 'ji': 0}\n",
      "abcdefghij\n"
     ]
    }
   ],
   "source": [
    "x=input(\"enter string from a-j with 5 letters without repetition:  \")\n",
    "ite=-1\n",
    "s={\"ba\":0,\"ca\":0,\"da\":0,\"ea\":0,\"fa\":0,\"ga\":0,\"ha\":0,\"ja\":0,\"cb\":0,\"db\":0,\"eb\":0,\"fb\":0,\"gb\":0,\"hb\":0,\"ib\":0,\"jb\":0,\"dc\":0,\"ec\":0,\"fc\":0,\"hc\":0,\"ic\":0,\"jc\":0,\"ed\":0,\"fd\":0,\"gd\":0,\"hd\":0,\"id\":0,\"jd\":0,\"fe\":0,\"ge\":0,\"he\":0,\"ie\":0,\"je\":0,\"gf\":0,\"hf\":0,\"if\":0,\"jf\":0,\"hg\":0,\"ig\":0,\"jg\":0,\"ih\":0,\"jh\":0,\"ji\":0}\n",
    "if x!=\"abcdefghij\":\n",
    "    for i in range (15):\n",
    "        ite=ite+1\n",
    "        l=x\n",
    "        for i in s :\n",
    "            if i in x:\n",
    "                s[i]=1\n",
    "                l= x.replace(i,i[::-1])\n",
    "                x=l\n",
    "                break\n",
    "        print(\"itera=\",ite)        \n",
    "        print(s)\n",
    "        print(l)\n",
    "      \n",
    "    \n",
    "\n",
    "    \n",
    "        "
   ]
  },
  {
   "cell_type": "code",
   "execution_count": 29,
   "metadata": {},
   "outputs": [
    {
     "ename": "NameError",
     "evalue": "name 'afghdefghij' is not defined",
     "output_type": "error",
     "traceback": [
      "\u001b[1;31m---------------------------------------------------------------------------\u001b[0m",
      "\u001b[1;31mNameError\u001b[0m                                 Traceback (most recent call last)",
      "\u001b[1;32m<ipython-input-29-49d44573cbbf>\u001b[0m in \u001b[0;36m<module>\u001b[1;34m\u001b[0m\n\u001b[1;32m----> 1\u001b[1;33m \u001b[0mafghdefghij\u001b[0m\u001b[1;33m\u001b[0m\u001b[1;33m\u001b[0m\u001b[0m\n\u001b[0m",
      "\u001b[1;31mNameError\u001b[0m: name 'afghdefghij' is not defined"
     ]
    }
   ],
   "source": [
    "afghdefghij"
   ]
  },
  {
   "cell_type": "code",
   "execution_count": null,
   "metadata": {},
   "outputs": [],
   "source": []
  }
 ],
 "metadata": {
  "kernelspec": {
   "display_name": "Python 3",
   "language": "python",
   "name": "python3"
  },
  "language_info": {
   "codemirror_mode": {
    "name": "ipython",
    "version": 3
   },
   "file_extension": ".py",
   "mimetype": "text/x-python",
   "name": "python",
   "nbconvert_exporter": "python",
   "pygments_lexer": "ipython3",
   "version": "3.8.5"
  }
 },
 "nbformat": 4,
 "nbformat_minor": 4
}

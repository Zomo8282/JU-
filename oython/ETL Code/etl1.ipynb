{
 "cells": [
  {
   "cell_type": "markdown",
   "metadata": {},
   "source": [
    "# Extract"
   ]
  },
  {
   "cell_type": "code",
   "execution_count": 84,
   "metadata": {},
   "outputs": [
    {
     "data": {
      "text/plain": [
       "pandas.core.frame.DataFrame"
      ]
     },
     "execution_count": 84,
     "metadata": {},
     "output_type": "execute_result"
    }
   ],
   "source": [
    "import pandas as pd\n",
    "#load the data into a Pandas DataFrame\n",
    "users = pd.read_csv('users.csv')\n",
    "orders = pd.read_csv('orders.csv') # load to DataFrame\n",
    "type(users)"
   ]
  },
  {
   "cell_type": "code",
   "execution_count": 88,
   "metadata": {},
   "outputs": [
    {
     "data": {
      "text/plain": [
       "<bound method NDFrame.describe of     order_id  user_id item_name  Item_price\n",
       "0          1        1   speaker         200\n",
       "1          2        1     phone         300\n",
       "2          3        2     spoon           5\n",
       "3          4        2      fork           5\n",
       "4          5        2   speaker         110\n",
       "5          6        3  computer         500\n",
       "6          7        4     radio         200\n",
       "7          8        5     table          40\n",
       "8          9        5     chair          20\n",
       "9         10        6     table          40\n",
       "10        11        7     phone         300\n",
       "11        12        8        TV         500\n",
       "12        13        8      game          30\n",
       "13        14       10      desk         100\n",
       "14        15       10     table          40>"
      ]
     },
     "execution_count": 88,
     "metadata": {},
     "output_type": "execute_result"
    }
   ],
   "source": [
    "orders.describe"
   ]
  },
  {
   "cell_type": "markdown",
   "metadata": {},
   "source": [
    "# Transform"
   ]
  },
  {
   "cell_type": "code",
   "execution_count": 89,
   "metadata": {},
   "outputs": [
    {
     "data": {
      "text/plain": [
       "<bound method NDFrame.describe of     order_id  user_id item_name  Item_price  Item_priceJD\n",
       "0          1        1   speaker         200        142.00\n",
       "1          2        1     phone         300        213.00\n",
       "2          3        2     spoon           5          3.55\n",
       "3          4        2      fork           5          3.55\n",
       "4          5        2   speaker         110         78.10\n",
       "5          6        3  computer         500        355.00\n",
       "6          7        4     radio         200        142.00\n",
       "7          8        5     table          40         28.40\n",
       "8          9        5     chair          20         14.20\n",
       "9         10        6     table          40         28.40\n",
       "10        11        7     phone         300        213.00\n",
       "11        12        8        TV         500        355.00\n",
       "12        13        8      game          30         21.30\n",
       "13        14       10      desk         100         71.00\n",
       "14        15       10     table          40         28.40>"
      ]
     },
     "execution_count": 89,
     "metadata": {},
     "output_type": "execute_result"
    }
   ],
   "source": [
    "orders['Item_priceJD']=orders.Item_price*0.71\n",
    "users['salaryInJD'] = users.salaryInDollar*0.71\n",
    "users.describe\n",
    "orders.describe"
   ]
  },
  {
   "cell_type": "code",
   "execution_count": 90,
   "metadata": {},
   "outputs": [
    {
     "data": {
      "text/plain": [
       "<bound method NDFrame.describe of     order_id  user_id item_name  Item_price  Item_priceJD\n",
       "0          1        1   speaker         200        142.00\n",
       "1          2        1     phone         300        213.00\n",
       "2          3        2     spoon           5          3.55\n",
       "3          4        2      fork           5          3.55\n",
       "4          5        2   speaker         110         78.10\n",
       "5          6        3  computer         500        355.00\n",
       "6          7        4     radio         200        142.00\n",
       "7          8        5     table          40         28.40\n",
       "8          9        5     chair          20         14.20\n",
       "9         10        6     table          40         28.40\n",
       "10        11        7     phone         300        213.00\n",
       "11        12        8        TV         500        355.00\n",
       "12        13        8      game          30         21.30\n",
       "13        14       10      desk         100         71.00\n",
       "14        15       10     table          40         28.40>"
      ]
     },
     "execution_count": 90,
     "metadata": {},
     "output_type": "execute_result"
    }
   ],
   "source": [
    "orders.describe"
   ]
  },
  {
   "cell_type": "markdown",
   "metadata": {},
   "source": [
    "# Load"
   ]
  },
  {
   "cell_type": "code",
   "execution_count": 91,
   "metadata": {},
   "outputs": [
    {
     "data": {
      "text/plain": [
       "[(1, 'ahmad', 3000, 'Jordan', 2130.0),\n",
       " (2, 'ali', 4000, 'Iraq', 2840.0),\n",
       " (3, 'yousef', 5000, 'Oman', 3550.0),\n",
       " (4, 'hala', 6000, 'Oman', 4260.0),\n",
       " (5, 'yaseen', 7000, 'Oman', 4970.0),\n",
       " (6, 'sameer', 3500, 'Jordan', 2485.0),\n",
       " (7, 'saif', 4600, 'Iraq', 3266.0),\n",
       " (8, 'omar', 2300, 'UAE', 1633.0),\n",
       " (9, 'nada', 1900, 'UAE', 1349.0),\n",
       " (10, 'sanad', 4300, 'UAE', 3053.0)]"
      ]
     },
     "execution_count": 91,
     "metadata": {},
     "output_type": "execute_result"
    }
   ],
   "source": [
    "from pathlib import Path\n",
    "dbName=\"dba3\"\n",
    "Path(dbName).touch()\n",
    "import sqlite3\n",
    "conn = sqlite3.connect(dbName)\n",
    "c = conn.cursor()\n",
    "\n",
    "#write the data to a sqlite table\n",
    "users.to_sql('users', conn, if_exists='append', index = False)\n",
    "c.execute('''SELECT * FROM users''').fetchall()\n",
    "\n"
   ]
  },
  {
   "cell_type": "code",
   "execution_count": 81,
   "metadata": {},
   "outputs": [
    {
     "data": {
      "text/plain": [
       "[(1, 1, 'speaker', 200, 142.0),\n",
       " (2, 1, 'phone', 300, 213.0),\n",
       " (3, 2, 'spoon', 5, 3.55),\n",
       " (4, 2, 'fork', 5, 3.55),\n",
       " (5, 2, 'speaker', 110, 78.1),\n",
       " (6, 3, 'computer', 500, 355.0),\n",
       " (7, 4, 'radio', 200, 142.0),\n",
       " (8, 5, 'table', 40, 28.4),\n",
       " (9, 5, 'chair', 20, 14.2),\n",
       " (10, 6, 'table', 40, 28.4),\n",
       " (11, 7, 'phone', 300, 213.0),\n",
       " (12, 8, 'TV', 500, 355.0),\n",
       " (13, 8, 'game', 30, 21.299999999999997),\n",
       " (14, 10, 'desk', 100, 71.0),\n",
       " (15, 10, 'table', 40, 28.4),\n",
       " (1, 1, 'speaker', 200, 142.0),\n",
       " (2, 1, 'phone', 300, 213.0),\n",
       " (3, 2, 'spoon', 5, 3.55),\n",
       " (4, 2, 'fork', 5, 3.55),\n",
       " (5, 2, 'speaker', 110, 78.1),\n",
       " (6, 3, 'computer', 500, 355.0),\n",
       " (7, 4, 'radio', 200, 142.0),\n",
       " (8, 5, 'table', 40, 28.4),\n",
       " (9, 5, 'chair', 20, 14.2),\n",
       " (10, 6, 'table', 40, 28.4),\n",
       " (11, 7, 'phone', 300, 213.0),\n",
       " (12, 8, 'TV', 500, 355.0),\n",
       " (13, 8, 'game', 30, 21.299999999999997),\n",
       " (14, 10, 'desk', 100, 71.0),\n",
       " (15, 10, 'table', 40, 28.4)]"
      ]
     },
     "execution_count": 81,
     "metadata": {},
     "output_type": "execute_result"
    }
   ],
   "source": [
    "c = conn.cursor()\n",
    "orders.to_sql('orders', conn, if_exists='append', index = False) # write to sqlite table\n",
    "c.execute('''SELECT * FROM orders''').fetchall()"
   ]
  },
  {
   "cell_type": "code",
   "execution_count": 82,
   "metadata": {},
   "outputs": [
    {
     "data": {
      "text/plain": [
       "[(1, 'ahmad', 3000, 'Jordan', 2130.0, 1, 1, 'speaker', 200, 142.0),\n",
       " (1, 'ahmad', 3000, 'Jordan', 2130.0, 1, 1, 'speaker', 200, 142.0),\n",
       " (1, 'ahmad', 3000, 'Jordan', 2130.0, 2, 1, 'phone', 300, 213.0),\n",
       " (1, 'ahmad', 3000, 'Jordan', 2130.0, 2, 1, 'phone', 300, 213.0),\n",
       " (2, 'ali', 4000, 'Iraq', 2840.0, 3, 2, 'spoon', 5, 3.55),\n",
       " (2, 'ali', 4000, 'Iraq', 2840.0, 3, 2, 'spoon', 5, 3.55),\n",
       " (2, 'ali', 4000, 'Iraq', 2840.0, 4, 2, 'fork', 5, 3.55),\n",
       " (2, 'ali', 4000, 'Iraq', 2840.0, 4, 2, 'fork', 5, 3.55),\n",
       " (2, 'ali', 4000, 'Iraq', 2840.0, 5, 2, 'speaker', 110, 78.1),\n",
       " (2, 'ali', 4000, 'Iraq', 2840.0, 5, 2, 'speaker', 110, 78.1),\n",
       " (3, 'yousef', 5000, 'Oman', 3550.0, 6, 3, 'computer', 500, 355.0),\n",
       " (3, 'yousef', 5000, 'Oman', 3550.0, 6, 3, 'computer', 500, 355.0),\n",
       " (4, 'hala', 6000, 'Oman', 4260.0, 7, 4, 'radio', 200, 142.0),\n",
       " (4, 'hala', 6000, 'Oman', 4260.0, 7, 4, 'radio', 200, 142.0),\n",
       " (5, 'yaseen', 7000, 'Oman', 4970.0, 8, 5, 'table', 40, 28.4),\n",
       " (5, 'yaseen', 7000, 'Oman', 4970.0, 8, 5, 'table', 40, 28.4),\n",
       " (5, 'yaseen', 7000, 'Oman', 4970.0, 9, 5, 'chair', 20, 14.2),\n",
       " (5, 'yaseen', 7000, 'Oman', 4970.0, 9, 5, 'chair', 20, 14.2),\n",
       " (6, 'sameer', 3500, 'Jordan', 2485.0, 10, 6, 'table', 40, 28.4),\n",
       " (6, 'sameer', 3500, 'Jordan', 2485.0, 10, 6, 'table', 40, 28.4),\n",
       " (7, 'saif', 4600, 'Iraq', 3266.0, 11, 7, 'phone', 300, 213.0),\n",
       " (7, 'saif', 4600, 'Iraq', 3266.0, 11, 7, 'phone', 300, 213.0),\n",
       " (8, 'omar', 2300, 'UAE', 1633.0, 12, 8, 'TV', 500, 355.0),\n",
       " (8, 'omar', 2300, 'UAE', 1633.0, 12, 8, 'TV', 500, 355.0),\n",
       " (8, 'omar', 2300, 'UAE', 1633.0, 13, 8, 'game', 30, 21.299999999999997),\n",
       " (8, 'omar', 2300, 'UAE', 1633.0, 13, 8, 'game', 30, 21.299999999999997),\n",
       " (9, 'nada', 1900, 'UAE', 1349.0, None, None, None, None, None),\n",
       " (10, 'sanad', 4300, 'UAE', 3053.0, 14, 10, 'desk', 100, 71.0),\n",
       " (10, 'sanad', 4300, 'UAE', 3053.0, 14, 10, 'desk', 100, 71.0),\n",
       " (10, 'sanad', 4300, 'UAE', 3053.0, 15, 10, 'table', 40, 28.4),\n",
       " (10, 'sanad', 4300, 'UAE', 3053.0, 15, 10, 'table', 40, 28.4)]"
      ]
     },
     "execution_count": 82,
     "metadata": {},
     "output_type": "execute_result"
    }
   ],
   "source": [
    "c.execute('''SELECT * FROM users u LEFT JOIN orders o ON u.user_id = o.user_id''')\n",
    "c.fetchall()"
   ]
  },
  {
   "cell_type": "code",
   "execution_count": 83,
   "metadata": {},
   "outputs": [
    {
     "data": {
      "text/html": [
       "<div>\n",
       "<style scoped>\n",
       "    .dataframe tbody tr th:only-of-type {\n",
       "        vertical-align: middle;\n",
       "    }\n",
       "\n",
       "    .dataframe tbody tr th {\n",
       "        vertical-align: top;\n",
       "    }\n",
       "\n",
       "    .dataframe thead th {\n",
       "        text-align: right;\n",
       "    }\n",
       "</style>\n",
       "<table border=\"1\" class=\"dataframe\">\n",
       "  <thead>\n",
       "    <tr style=\"text-align: right;\">\n",
       "      <th></th>\n",
       "      <th>order_id</th>\n",
       "      <th>user_id</th>\n",
       "      <th>item_name</th>\n",
       "      <th>Item_price</th>\n",
       "      <th>Item_priceJD</th>\n",
       "    </tr>\n",
       "  </thead>\n",
       "  <tbody>\n",
       "    <tr>\n",
       "      <td>0</td>\n",
       "      <td>1</td>\n",
       "      <td>1</td>\n",
       "      <td>speaker</td>\n",
       "      <td>200</td>\n",
       "      <td>142.00</td>\n",
       "    </tr>\n",
       "    <tr>\n",
       "      <td>1</td>\n",
       "      <td>2</td>\n",
       "      <td>1</td>\n",
       "      <td>phone</td>\n",
       "      <td>300</td>\n",
       "      <td>213.00</td>\n",
       "    </tr>\n",
       "    <tr>\n",
       "      <td>2</td>\n",
       "      <td>3</td>\n",
       "      <td>2</td>\n",
       "      <td>spoon</td>\n",
       "      <td>5</td>\n",
       "      <td>3.55</td>\n",
       "    </tr>\n",
       "    <tr>\n",
       "      <td>3</td>\n",
       "      <td>4</td>\n",
       "      <td>2</td>\n",
       "      <td>fork</td>\n",
       "      <td>5</td>\n",
       "      <td>3.55</td>\n",
       "    </tr>\n",
       "    <tr>\n",
       "      <td>4</td>\n",
       "      <td>5</td>\n",
       "      <td>2</td>\n",
       "      <td>speaker</td>\n",
       "      <td>110</td>\n",
       "      <td>78.10</td>\n",
       "    </tr>\n",
       "    <tr>\n",
       "      <td>5</td>\n",
       "      <td>6</td>\n",
       "      <td>3</td>\n",
       "      <td>computer</td>\n",
       "      <td>500</td>\n",
       "      <td>355.00</td>\n",
       "    </tr>\n",
       "    <tr>\n",
       "      <td>6</td>\n",
       "      <td>7</td>\n",
       "      <td>4</td>\n",
       "      <td>radio</td>\n",
       "      <td>200</td>\n",
       "      <td>142.00</td>\n",
       "    </tr>\n",
       "    <tr>\n",
       "      <td>7</td>\n",
       "      <td>8</td>\n",
       "      <td>5</td>\n",
       "      <td>table</td>\n",
       "      <td>40</td>\n",
       "      <td>28.40</td>\n",
       "    </tr>\n",
       "    <tr>\n",
       "      <td>8</td>\n",
       "      <td>9</td>\n",
       "      <td>5</td>\n",
       "      <td>chair</td>\n",
       "      <td>20</td>\n",
       "      <td>14.20</td>\n",
       "    </tr>\n",
       "    <tr>\n",
       "      <td>9</td>\n",
       "      <td>10</td>\n",
       "      <td>6</td>\n",
       "      <td>table</td>\n",
       "      <td>40</td>\n",
       "      <td>28.40</td>\n",
       "    </tr>\n",
       "    <tr>\n",
       "      <td>10</td>\n",
       "      <td>11</td>\n",
       "      <td>7</td>\n",
       "      <td>phone</td>\n",
       "      <td>300</td>\n",
       "      <td>213.00</td>\n",
       "    </tr>\n",
       "    <tr>\n",
       "      <td>11</td>\n",
       "      <td>12</td>\n",
       "      <td>8</td>\n",
       "      <td>TV</td>\n",
       "      <td>500</td>\n",
       "      <td>355.00</td>\n",
       "    </tr>\n",
       "    <tr>\n",
       "      <td>12</td>\n",
       "      <td>13</td>\n",
       "      <td>8</td>\n",
       "      <td>game</td>\n",
       "      <td>30</td>\n",
       "      <td>21.30</td>\n",
       "    </tr>\n",
       "    <tr>\n",
       "      <td>13</td>\n",
       "      <td>14</td>\n",
       "      <td>10</td>\n",
       "      <td>desk</td>\n",
       "      <td>100</td>\n",
       "      <td>71.00</td>\n",
       "    </tr>\n",
       "    <tr>\n",
       "      <td>14</td>\n",
       "      <td>15</td>\n",
       "      <td>10</td>\n",
       "      <td>table</td>\n",
       "      <td>40</td>\n",
       "      <td>28.40</td>\n",
       "    </tr>\n",
       "  </tbody>\n",
       "</table>\n",
       "</div>"
      ],
      "text/plain": [
       "    order_id  user_id item_name  Item_price  Item_priceJD\n",
       "0          1        1   speaker         200        142.00\n",
       "1          2        1     phone         300        213.00\n",
       "2          3        2     spoon           5          3.55\n",
       "3          4        2      fork           5          3.55\n",
       "4          5        2   speaker         110         78.10\n",
       "5          6        3  computer         500        355.00\n",
       "6          7        4     radio         200        142.00\n",
       "7          8        5     table          40         28.40\n",
       "8          9        5     chair          20         14.20\n",
       "9         10        6     table          40         28.40\n",
       "10        11        7     phone         300        213.00\n",
       "11        12        8        TV         500        355.00\n",
       "12        13        8      game          30         21.30\n",
       "13        14       10      desk         100         71.00\n",
       "14        15       10     table          40         28.40"
      ]
     },
     "execution_count": 83,
     "metadata": {},
     "output_type": "execute_result"
    }
   ],
   "source": [
    "orders"
   ]
  },
  {
   "cell_type": "code",
   "execution_count": null,
   "metadata": {},
   "outputs": [],
   "source": []
  }
 ],
 "metadata": {
  "kernelspec": {
   "display_name": "Python 3",
   "language": "python",
   "name": "python3"
  },
  "language_info": {
   "codemirror_mode": {
    "name": "ipython",
    "version": 3
   },
   "file_extension": ".py",
   "mimetype": "text/x-python",
   "name": "python",
   "nbconvert_exporter": "python",
   "pygments_lexer": "ipython3",
   "version": "3.8.5"
  }
 },
 "nbformat": 4,
 "nbformat_minor": 2
}
